{
 "cells": [
  {
   "cell_type": "markdown",
   "metadata": {},
   "source": [
    "# PARTE 3: ANÁLISE PREDITIVA DOS DADOS\n",
    "\n",
    "## Alunos: Ana Carolina Wagner e José Valentim\n",
    "## Mestrado FGV-EMAp - 2018.1\n",
    "## MMD - Prof. Renato"
   ]
  },
  {
   "cell_type": "markdown",
   "metadata": {},
   "source": [
    "# Kaggle - TalkingData AdTracking Fraud Detection Challenge\n",
    "\n",
    "https://www.kaggle.com/c/talkingdata-adtracking-fraud-detection\n",
    "\n",
    "___\n",
    "\n",
    "## Considerações\n",
    "\n",
    "* Trata-se de um problema de **classificação binária** - ou seja, nossa variável alvo é um atributo binário (o usuário está tornando o clique fraudulento ou não?);\n",
    "\n",
    "\n",
    "* O objetivo é classificar os usuários em \"fraudulentos\" ou \"não fraudulentos\". Ou ainda, estamos tentando prever downloads após cliques ou não.\n",
    "____\n",
    "\n",
    "## Fontes\n",
    "\n",
    "* https://www.kaggle.com/graf10a/pranav-s-lgbm-lb-0-9699?scriptVersionId=3073843/code\n",
    "\n",
    "* https://www.kaggle.com/pranav84/talkingdata-count-features-and-animations\n",
    "\n",
    "* https://www.kaggle.com/nanomathias/feature-engineering-importance-testing\n",
    "\n",
    "* https://www.kaggle.com/asraful70/feature-engineering-of-talkingdata-with-lightgbm"
   ]
  },
  {
   "cell_type": "markdown",
   "metadata": {},
   "source": [
    "## 1. Carregando bibliotecas"
   ]
  },
  {
   "cell_type": "code",
   "execution_count": 1,
   "metadata": {},
   "outputs": [],
   "source": [
    "import pandas as pd\n",
    "import dask.dataframe as dd\n",
    "import numpy as np\n",
    "\n",
    "import matplotlib\n",
    "import matplotlib.pyplot as plt\n",
    "import seaborn as sns\n",
    "%matplotlib inline\n",
    "\n",
    "import pickle\n",
    "import os\n",
    "import csv\n",
    "import time\n",
    "import datetime\n",
    "import itertools\n",
    "import gc # garbage collection \n",
    "\n",
    "import warnings\n",
    "warnings.simplefilter(action='ignore', category=FutureWarning)\n",
    "\n",
    "path = '../../../../../dados/Dados/Kaggle/' # Servidor - Renato \n",
    "path_ana = os.getcwd()"
   ]
  },
  {
   "cell_type": "markdown",
   "metadata": {},
   "source": [
    "## 2. Importando os dados"
   ]
  },
  {
   "cell_type": "code",
   "execution_count": 2,
   "metadata": {},
   "outputs": [],
   "source": [
    "# Data Types - reduzir o espaço de armazenamento usando inteiros onde possível\n",
    "dtypes = {\n",
    "        'ip'            : 'uint32',\n",
    "        'app'           : 'uint16',\n",
    "        'device'        : 'uint16',\n",
    "        'os'            : 'uint16',\n",
    "        'channel'       : 'uint16',\n",
    "        'is_attributed' : 'uint8',\n",
    "        'day'           : 'uint8',\n",
    "        'hour'          : 'uint8'\n",
    "        }"
   ]
  },
  {
   "cell_type": "code",
   "execution_count": 3,
   "metadata": {},
   "outputs": [],
   "source": [
    "# Importando Apenas As Colunas Selecionadas\n",
    "train_cols = ['ip', 'app', 'device', 'os', 'channel', 'day', 'hour', 'is_attributed']\n",
    "test_cols  = ['ip', 'app', 'device', 'os', 'channel', 'click_time']"
   ]
  },
  {
   "cell_type": "code",
   "execution_count": 4,
   "metadata": {},
   "outputs": [
    {
     "name": "stdout",
     "output_type": "stream",
     "text": [
      "18.784009218215942 seconds to load df_train\n"
     ]
    }
   ],
   "source": [
    "# Conjunto de Treinamento\n",
    "start_time = time.time()\n",
    "df_train = pd.read_csv(path_ana + \"/datasets/train_sample_10_reduced.csv\", dtype=dtypes, usecols = train_cols)\n",
    "print('{} seconds to load df_train'.format(time.time() - start_time))"
   ]
  },
  {
   "cell_type": "code",
   "execution_count": 5,
   "metadata": {},
   "outputs": [
    {
     "data": {
      "text/html": [
       "<div>\n",
       "<style scoped>\n",
       "    .dataframe tbody tr th:only-of-type {\n",
       "        vertical-align: middle;\n",
       "    }\n",
       "\n",
       "    .dataframe tbody tr th {\n",
       "        vertical-align: top;\n",
       "    }\n",
       "\n",
       "    .dataframe thead th {\n",
       "        text-align: right;\n",
       "    }\n",
       "</style>\n",
       "<table border=\"1\" class=\"dataframe\">\n",
       "  <thead>\n",
       "    <tr style=\"text-align: right;\">\n",
       "      <th></th>\n",
       "      <th>ip</th>\n",
       "      <th>app</th>\n",
       "      <th>device</th>\n",
       "      <th>os</th>\n",
       "      <th>channel</th>\n",
       "      <th>day</th>\n",
       "      <th>hour</th>\n",
       "      <th>is_attributed</th>\n",
       "    </tr>\n",
       "  </thead>\n",
       "  <tbody>\n",
       "    <tr>\n",
       "      <th>0</th>\n",
       "      <td>35810</td>\n",
       "      <td>3</td>\n",
       "      <td>1</td>\n",
       "      <td>13</td>\n",
       "      <td>379</td>\n",
       "      <td>6</td>\n",
       "      <td>14</td>\n",
       "      <td>0</td>\n",
       "    </tr>\n",
       "    <tr>\n",
       "      <th>1</th>\n",
       "      <td>165970</td>\n",
       "      <td>3</td>\n",
       "      <td>1</td>\n",
       "      <td>13</td>\n",
       "      <td>379</td>\n",
       "      <td>6</td>\n",
       "      <td>14</td>\n",
       "      <td>0</td>\n",
       "    </tr>\n",
       "    <tr>\n",
       "      <th>2</th>\n",
       "      <td>111385</td>\n",
       "      <td>3</td>\n",
       "      <td>1</td>\n",
       "      <td>18</td>\n",
       "      <td>379</td>\n",
       "      <td>6</td>\n",
       "      <td>14</td>\n",
       "      <td>0</td>\n",
       "    </tr>\n",
       "    <tr>\n",
       "      <th>3</th>\n",
       "      <td>74715</td>\n",
       "      <td>3</td>\n",
       "      <td>1</td>\n",
       "      <td>19</td>\n",
       "      <td>379</td>\n",
       "      <td>6</td>\n",
       "      <td>14</td>\n",
       "      <td>0</td>\n",
       "    </tr>\n",
       "    <tr>\n",
       "      <th>4</th>\n",
       "      <td>148454</td>\n",
       "      <td>3</td>\n",
       "      <td>1</td>\n",
       "      <td>19</td>\n",
       "      <td>379</td>\n",
       "      <td>6</td>\n",
       "      <td>14</td>\n",
       "      <td>0</td>\n",
       "    </tr>\n",
       "  </tbody>\n",
       "</table>\n",
       "</div>"
      ],
      "text/plain": [
       "       ip  app  device  os  channel  day  hour  is_attributed\n",
       "0   35810    3       1  13      379    6    14              0\n",
       "1  165970    3       1  13      379    6    14              0\n",
       "2  111385    3       1  18      379    6    14              0\n",
       "3   74715    3       1  19      379    6    14              0\n",
       "4  148454    3       1  19      379    6    14              0"
      ]
     },
     "execution_count": 5,
     "metadata": {},
     "output_type": "execute_result"
    }
   ],
   "source": [
    "df_train.head()"
   ]
  },
  {
   "cell_type": "code",
   "execution_count": 6,
   "metadata": {},
   "outputs": [
    {
     "name": "stdout",
     "output_type": "stream",
     "text": [
      "21.476465463638306 seconds to load df_test\n"
     ]
    }
   ],
   "source": [
    "# Conjunto Teste\n",
    "start_time = time.time()\n",
    "df_test = pd.read_csv(path + \"test.csv\", dtype=dtypes, usecols = test_cols)\n",
    "print('{} seconds to load df_test'.format(time.time() - start_time))"
   ]
  },
  {
   "cell_type": "code",
   "execution_count": 9,
   "metadata": {},
   "outputs": [],
   "source": [
    "# Convertendo 'click_time' Para Série Temporal\n",
    "df_test['click_time'] = pd.to_datetime(df_test['click_time'])\n",
    "\n",
    "# Criando novas features a partir de 'click_time'\n",
    "df_test[\"day\"], df_test[\"hour\"] = zip(*df_test[\"click_time\"].apply(lambda row: (row.day, row.hour)))\n",
    "df_test = df_test.drop(['click_time'], axis=1)   \n",
    "\n",
    "# Salvando \n",
    "#pickle.dump(df_test, open(\"df_test.p\", \"wb\"), protocol=4)\n",
    "# Carregando \n",
    "df_test = pickle.load(open(\"df_test.p\", \"rb\"))"
   ]
  },
  {
   "cell_type": "code",
   "execution_count": 10,
   "metadata": {},
   "outputs": [
    {
     "data": {
      "text/html": [
       "<div>\n",
       "<style scoped>\n",
       "    .dataframe tbody tr th:only-of-type {\n",
       "        vertical-align: middle;\n",
       "    }\n",
       "\n",
       "    .dataframe tbody tr th {\n",
       "        vertical-align: top;\n",
       "    }\n",
       "\n",
       "    .dataframe thead th {\n",
       "        text-align: right;\n",
       "    }\n",
       "</style>\n",
       "<table border=\"1\" class=\"dataframe\">\n",
       "  <thead>\n",
       "    <tr style=\"text-align: right;\">\n",
       "      <th></th>\n",
       "      <th>ip</th>\n",
       "      <th>app</th>\n",
       "      <th>device</th>\n",
       "      <th>os</th>\n",
       "      <th>channel</th>\n",
       "      <th>day</th>\n",
       "      <th>hour</th>\n",
       "    </tr>\n",
       "  </thead>\n",
       "  <tbody>\n",
       "    <tr>\n",
       "      <th>0</th>\n",
       "      <td>5744</td>\n",
       "      <td>9</td>\n",
       "      <td>1</td>\n",
       "      <td>3</td>\n",
       "      <td>107</td>\n",
       "      <td>10</td>\n",
       "      <td>4</td>\n",
       "    </tr>\n",
       "    <tr>\n",
       "      <th>1</th>\n",
       "      <td>119901</td>\n",
       "      <td>9</td>\n",
       "      <td>1</td>\n",
       "      <td>3</td>\n",
       "      <td>466</td>\n",
       "      <td>10</td>\n",
       "      <td>4</td>\n",
       "    </tr>\n",
       "    <tr>\n",
       "      <th>2</th>\n",
       "      <td>72287</td>\n",
       "      <td>21</td>\n",
       "      <td>1</td>\n",
       "      <td>19</td>\n",
       "      <td>128</td>\n",
       "      <td>10</td>\n",
       "      <td>4</td>\n",
       "    </tr>\n",
       "    <tr>\n",
       "      <th>3</th>\n",
       "      <td>78477</td>\n",
       "      <td>15</td>\n",
       "      <td>1</td>\n",
       "      <td>13</td>\n",
       "      <td>111</td>\n",
       "      <td>10</td>\n",
       "      <td>4</td>\n",
       "    </tr>\n",
       "    <tr>\n",
       "      <th>4</th>\n",
       "      <td>123080</td>\n",
       "      <td>12</td>\n",
       "      <td>1</td>\n",
       "      <td>13</td>\n",
       "      <td>328</td>\n",
       "      <td>10</td>\n",
       "      <td>4</td>\n",
       "    </tr>\n",
       "  </tbody>\n",
       "</table>\n",
       "</div>"
      ],
      "text/plain": [
       "       ip  app  device  os  channel  day  hour\n",
       "0    5744    9       1   3      107   10     4\n",
       "1  119901    9       1   3      466   10     4\n",
       "2   72287   21       1  19      128   10     4\n",
       "3   78477   15       1  13      111   10     4\n",
       "4  123080   12       1  13      328   10     4"
      ]
     },
     "execution_count": 10,
     "metadata": {},
     "output_type": "execute_result"
    }
   ],
   "source": [
    "df_test.head()"
   ]
  },
  {
   "cell_type": "markdown",
   "metadata": {},
   "source": [
    "## 3. *Feature engineering*"
   ]
  },
  {
   "cell_type": "markdown",
   "metadata": {},
   "source": [
    "### 3.1. Contagem dos cliques das *features* ip, app, os e channel"
   ]
  },
  {
   "cell_type": "code",
   "execution_count": 45,
   "metadata": {},
   "outputs": [],
   "source": [
    "train_index = df_train.shape[0]\n",
    "\n",
    "# Extraindo o atributo alvo\n",
    "y_train = df_train['is_attributed']\n",
    "df_train = df_train.drop(['is_attributed'], axis=1)\n",
    "\n",
    "# Fazendo um merge do conjunto de treinamento com o conjunto teste\n",
    "df_merge = pd.concat([df_train, df_test])\n",
    "\n",
    "# Limpando a memória\n",
    "del df_train, df_test\n",
    "gc.collect()"
   ]
  },
  {
   "cell_type": "code",
   "execution_count": 18,
   "metadata": {},
   "outputs": [],
   "source": [
    "columns = ['ip', 'app', 'os', 'channel']\n",
    "\n",
    "for col in columns:\n",
    "    df_count = df_merge[col].value_counts().reset_index(name='clicks_by_' + col)\n",
    "    df_count.columns = [col, 'clicks_by_' + col]\n",
    "    df_merge = df_merge.merge(df_count, on=col, how='left', sort=False)\n",
    "    df_merge['clicks_by_' + col] = df_merge['clicks_by_' + col].astype('uint16')\n",
    "    del df_count\n",
    "    gc.collect()"
   ]
  },
  {
   "cell_type": "code",
   "execution_count": 19,
   "metadata": {},
   "outputs": [
    {
     "data": {
      "text/plain": [
       "0"
      ]
     },
     "execution_count": 19,
     "metadata": {},
     "output_type": "execute_result"
    }
   ],
   "source": [
    "df_train = df_merge[:train_index]\n",
    "df_test = df_merge[train_index:]\n",
    "\n",
    "del df_merge\n",
    "gc.collect()"
   ]
  },
  {
   "cell_type": "code",
   "execution_count": 20,
   "metadata": {},
   "outputs": [
    {
     "data": {
      "text/html": [
       "<div>\n",
       "<style scoped>\n",
       "    .dataframe tbody tr th:only-of-type {\n",
       "        vertical-align: middle;\n",
       "    }\n",
       "\n",
       "    .dataframe tbody tr th {\n",
       "        vertical-align: top;\n",
       "    }\n",
       "\n",
       "    .dataframe thead th {\n",
       "        text-align: right;\n",
       "    }\n",
       "</style>\n",
       "<table border=\"1\" class=\"dataframe\">\n",
       "  <thead>\n",
       "    <tr style=\"text-align: right;\">\n",
       "      <th></th>\n",
       "      <th>ip</th>\n",
       "      <th>app</th>\n",
       "      <th>device</th>\n",
       "      <th>os</th>\n",
       "      <th>channel</th>\n",
       "      <th>day</th>\n",
       "      <th>hour</th>\n",
       "      <th>clicks_by_ip</th>\n",
       "      <th>clicks_by_app</th>\n",
       "      <th>clicks_by_os</th>\n",
       "      <th>clicks_by_channel</th>\n",
       "    </tr>\n",
       "  </thead>\n",
       "  <tbody>\n",
       "    <tr>\n",
       "      <th>0</th>\n",
       "      <td>35810</td>\n",
       "      <td>3</td>\n",
       "      <td>1</td>\n",
       "      <td>13</td>\n",
       "      <td>379</td>\n",
       "      <td>6</td>\n",
       "      <td>14</td>\n",
       "      <td>2128</td>\n",
       "      <td>18761</td>\n",
       "      <td>7354</td>\n",
       "      <td>24753</td>\n",
       "    </tr>\n",
       "    <tr>\n",
       "      <th>1</th>\n",
       "      <td>165970</td>\n",
       "      <td>3</td>\n",
       "      <td>1</td>\n",
       "      <td>13</td>\n",
       "      <td>379</td>\n",
       "      <td>6</td>\n",
       "      <td>14</td>\n",
       "      <td>241</td>\n",
       "      <td>18761</td>\n",
       "      <td>7354</td>\n",
       "      <td>24753</td>\n",
       "    </tr>\n",
       "    <tr>\n",
       "      <th>2</th>\n",
       "      <td>111385</td>\n",
       "      <td>3</td>\n",
       "      <td>1</td>\n",
       "      <td>18</td>\n",
       "      <td>379</td>\n",
       "      <td>6</td>\n",
       "      <td>14</td>\n",
       "      <td>638</td>\n",
       "      <td>18761</td>\n",
       "      <td>64121</td>\n",
       "      <td>24753</td>\n",
       "    </tr>\n",
       "    <tr>\n",
       "      <th>3</th>\n",
       "      <td>74715</td>\n",
       "      <td>3</td>\n",
       "      <td>1</td>\n",
       "      <td>19</td>\n",
       "      <td>379</td>\n",
       "      <td>6</td>\n",
       "      <td>14</td>\n",
       "      <td>299</td>\n",
       "      <td>18761</td>\n",
       "      <td>33570</td>\n",
       "      <td>24753</td>\n",
       "    </tr>\n",
       "    <tr>\n",
       "      <th>4</th>\n",
       "      <td>148454</td>\n",
       "      <td>3</td>\n",
       "      <td>1</td>\n",
       "      <td>19</td>\n",
       "      <td>379</td>\n",
       "      <td>6</td>\n",
       "      <td>14</td>\n",
       "      <td>571</td>\n",
       "      <td>18761</td>\n",
       "      <td>33570</td>\n",
       "      <td>24753</td>\n",
       "    </tr>\n",
       "  </tbody>\n",
       "</table>\n",
       "</div>"
      ],
      "text/plain": [
       "       ip  app  device  os  channel  day  hour  clicks_by_ip  clicks_by_app  \\\n",
       "0   35810    3       1  13      379    6    14          2128          18761   \n",
       "1  165970    3       1  13      379    6    14           241          18761   \n",
       "2  111385    3       1  18      379    6    14           638          18761   \n",
       "3   74715    3       1  19      379    6    14           299          18761   \n",
       "4  148454    3       1  19      379    6    14           571          18761   \n",
       "\n",
       "   clicks_by_os  clicks_by_channel  \n",
       "0          7354              24753  \n",
       "1          7354              24753  \n",
       "2         64121              24753  \n",
       "3         33570              24753  \n",
       "4         33570              24753  "
      ]
     },
     "execution_count": 20,
     "metadata": {},
     "output_type": "execute_result"
    }
   ],
   "source": [
    "df_train.head()"
   ]
  },
  {
   "cell_type": "markdown",
   "metadata": {},
   "source": [
    "### 3.2. Agrupamentos de algumas *features*"
   ]
  },
  {
   "cell_type": "code",
   "execution_count": 25,
   "metadata": {},
   "outputs": [
    {
     "data": {
      "text/plain": [
       "48"
      ]
     },
     "execution_count": 25,
     "metadata": {},
     "output_type": "execute_result"
    }
   ],
   "source": [
    "# Fazendo um merge do conjunto de treinamento com o conjunto teste\n",
    "df_merge = pd.concat([df_train, df_test])\n",
    "\n",
    "# Limpando a memória\n",
    "del df_train, df_test\n",
    "gc.collect()"
   ]
  },
  {
   "cell_type": "code",
   "execution_count": 29,
   "metadata": {},
   "outputs": [
    {
     "data": {
      "text/plain": [
       "107"
      ]
     },
     "execution_count": 29,
     "metadata": {},
     "output_type": "execute_result"
    }
   ],
   "source": [
    "# Número de cliques associados a um determinado IP em cada hora (ip_day_hour)\n",
    "df_count = df_merge[['ip','day','hour','channel']].groupby(by=['ip','day','hour'])[['channel']].count().reset_index().rename(index=str, columns={'channel': 'ip_day_hour'})\n",
    "df_merge = df_merge.merge(df_count, on=['ip','day','hour'], how='left')\n",
    "del df_count\n",
    "gc.collect()\n",
    "\n",
    "# Número de cliques associados a um determinado IP e aplicativo (ip_app)\n",
    "df_count = df_merge[['ip','app', 'channel']].groupby(by=['ip','app'])[['channel']].count().reset_index().rename(index=str, columns={'channel': 'ip_app'})\n",
    "df_merge = df_merge.merge(df_count, on=['ip', 'app'], how='left')\n",
    "del df_count\n",
    "gc.collect()\n",
    "\n",
    "# Número de cliques associados a um determinado IP, aplicativo e sistema operacional (ip_app_os)\n",
    "df_count = df_merge[['ip','app', 'os', 'channel']].groupby(by=['ip','app', 'os'])[['channel']].count().reset_index().rename(index=str, columns={'channel': 'ip_app_os'})\n",
    "df_merge = df_merge.merge(df_count, on=['ip', 'app', 'os'], how='left')\n",
    "del df_count\n",
    "gc.collect()"
   ]
  },
  {
   "cell_type": "code",
   "execution_count": 34,
   "metadata": {},
   "outputs": [],
   "source": [
    "df_train = df_merge[:train_index]\n",
    "df_test = df_merge[train_index:]\n",
    "\n",
    "# Salvando \n",
    "pickle.dump(df_train, open(\"df_train_2.p\", \"wb\"), protocol=4)\n",
    "pickle.dump(df_test, open(\"df_test_2.p\", \"wb\"), protocol=4)\n",
    "\n",
    "del df_merge\n",
    "gc.collect()"
   ]
  },
  {
   "cell_type": "code",
   "execution_count": 32,
   "metadata": {},
   "outputs": [
    {
     "data": {
      "text/html": [
       "<div>\n",
       "<style scoped>\n",
       "    .dataframe tbody tr th:only-of-type {\n",
       "        vertical-align: middle;\n",
       "    }\n",
       "\n",
       "    .dataframe tbody tr th {\n",
       "        vertical-align: top;\n",
       "    }\n",
       "\n",
       "    .dataframe thead th {\n",
       "        text-align: right;\n",
       "    }\n",
       "</style>\n",
       "<table border=\"1\" class=\"dataframe\">\n",
       "  <thead>\n",
       "    <tr style=\"text-align: right;\">\n",
       "      <th></th>\n",
       "      <th>ip</th>\n",
       "      <th>app</th>\n",
       "      <th>device</th>\n",
       "      <th>os</th>\n",
       "      <th>channel</th>\n",
       "      <th>day</th>\n",
       "      <th>hour</th>\n",
       "      <th>clicks_by_ip</th>\n",
       "      <th>clicks_by_app</th>\n",
       "      <th>clicks_by_os</th>\n",
       "      <th>clicks_by_channel</th>\n",
       "      <th>ip_day_hour</th>\n",
       "      <th>ip_app</th>\n",
       "      <th>ip_app_os</th>\n",
       "    </tr>\n",
       "  </thead>\n",
       "  <tbody>\n",
       "    <tr>\n",
       "      <th>0</th>\n",
       "      <td>35810</td>\n",
       "      <td>3</td>\n",
       "      <td>1</td>\n",
       "      <td>13</td>\n",
       "      <td>379</td>\n",
       "      <td>6</td>\n",
       "      <td>14</td>\n",
       "      <td>2128</td>\n",
       "      <td>18761</td>\n",
       "      <td>7354</td>\n",
       "      <td>24753</td>\n",
       "      <td>1</td>\n",
       "      <td>320</td>\n",
       "      <td>70</td>\n",
       "    </tr>\n",
       "    <tr>\n",
       "      <th>1</th>\n",
       "      <td>165970</td>\n",
       "      <td>3</td>\n",
       "      <td>1</td>\n",
       "      <td>13</td>\n",
       "      <td>379</td>\n",
       "      <td>6</td>\n",
       "      <td>14</td>\n",
       "      <td>241</td>\n",
       "      <td>18761</td>\n",
       "      <td>7354</td>\n",
       "      <td>24753</td>\n",
       "      <td>1</td>\n",
       "      <td>49</td>\n",
       "      <td>4</td>\n",
       "    </tr>\n",
       "    <tr>\n",
       "      <th>2</th>\n",
       "      <td>111385</td>\n",
       "      <td>3</td>\n",
       "      <td>1</td>\n",
       "      <td>18</td>\n",
       "      <td>379</td>\n",
       "      <td>6</td>\n",
       "      <td>14</td>\n",
       "      <td>638</td>\n",
       "      <td>18761</td>\n",
       "      <td>64121</td>\n",
       "      <td>24753</td>\n",
       "      <td>1</td>\n",
       "      <td>104</td>\n",
       "      <td>1</td>\n",
       "    </tr>\n",
       "    <tr>\n",
       "      <th>3</th>\n",
       "      <td>74715</td>\n",
       "      <td>3</td>\n",
       "      <td>1</td>\n",
       "      <td>19</td>\n",
       "      <td>379</td>\n",
       "      <td>6</td>\n",
       "      <td>14</td>\n",
       "      <td>299</td>\n",
       "      <td>18761</td>\n",
       "      <td>33570</td>\n",
       "      <td>24753</td>\n",
       "      <td>1</td>\n",
       "      <td>42</td>\n",
       "      <td>12</td>\n",
       "    </tr>\n",
       "    <tr>\n",
       "      <th>4</th>\n",
       "      <td>148454</td>\n",
       "      <td>3</td>\n",
       "      <td>1</td>\n",
       "      <td>19</td>\n",
       "      <td>379</td>\n",
       "      <td>6</td>\n",
       "      <td>14</td>\n",
       "      <td>571</td>\n",
       "      <td>18761</td>\n",
       "      <td>33570</td>\n",
       "      <td>24753</td>\n",
       "      <td>1</td>\n",
       "      <td>75</td>\n",
       "      <td>19</td>\n",
       "    </tr>\n",
       "  </tbody>\n",
       "</table>\n",
       "</div>"
      ],
      "text/plain": [
       "       ip  app  device  os  channel  day  hour  clicks_by_ip  clicks_by_app  \\\n",
       "0   35810    3       1  13      379    6    14          2128          18761   \n",
       "1  165970    3       1  13      379    6    14           241          18761   \n",
       "2  111385    3       1  18      379    6    14           638          18761   \n",
       "3   74715    3       1  19      379    6    14           299          18761   \n",
       "4  148454    3       1  19      379    6    14           571          18761   \n",
       "\n",
       "   clicks_by_os  clicks_by_channel  ip_day_hour  ip_app  ip_app_os  \n",
       "0          7354              24753            1     320         70  \n",
       "1          7354              24753            1      49          4  \n",
       "2         64121              24753            1     104          1  \n",
       "3         33570              24753            1      42         12  \n",
       "4         33570              24753            1      75         19  "
      ]
     },
     "execution_count": 32,
     "metadata": {},
     "output_type": "execute_result"
    }
   ],
   "source": [
    "df_train.head()"
   ]
  },
  {
   "cell_type": "markdown",
   "metadata": {},
   "source": [
    "### 3.3. Adicionando algumas *features* de tempo"
   ]
  },
  {
   "cell_type": "code",
   "execution_count": 4,
   "metadata": {},
   "outputs": [],
   "source": [
    "# Carregando a feature original click_time para incorporá-la novamente aos dados\n",
    "click_time_train = pd.read_csv(path_ana + \"/datasets/train_sample_10.csv\", dtype=dtypes, usecols = ['click_time'])\n",
    "df_train['click_time'] = click_time_train['click_time']\n",
    "\n",
    "click_time_test = pd.read_csv(path + \"test.csv\", dtype=dtypes, usecols = ['click_time'])\n",
    "df_test['click_time'] = click_time_test['click_time']"
   ]
  },
  {
   "cell_type": "code",
   "execution_count": 5,
   "metadata": {},
   "outputs": [],
   "source": [
    "# Fazendo um merge do conjunto de treinamento com o conjunto teste\n",
    "df_merge = pd.concat([df_train, df_test])"
   ]
  },
  {
   "cell_type": "code",
   "execution_count": 6,
   "metadata": {},
   "outputs": [],
   "source": [
    "df_merge['click_time'] = pd.to_datetime(df_merge['click_time'])"
   ]
  },
  {
   "cell_type": "code",
   "execution_count": 7,
   "metadata": {},
   "outputs": [
    {
     "data": {
      "text/plain": [
       "25"
      ]
     },
     "execution_count": 7,
     "metadata": {},
     "output_type": "execute_result"
    }
   ],
   "source": [
    "del df_train, df_test\n",
    "gc.collect()"
   ]
  },
  {
   "cell_type": "markdown",
   "metadata": {},
   "source": [
    "#### nextClick\n",
    "\n",
    "Vamos adicionar *features* relecionadas ao tempo que leva para o próximo click para um conjunto de agrupamentos das *features* da base."
   ]
  },
  {
   "cell_type": "code",
   "execution_count": 12,
   "metadata": {},
   "outputs": [],
   "source": [
    "GROUP_BY_NEXT_CLICKS = [\n",
    "    \n",
    "    {'groupby': ['ip']},\n",
    "    {'groupby': ['ip', 'app']},\n",
    "    {'groupby': ['ip', 'channel']},\n",
    "    #{'groupby': ['ip', 'os']},\n",
    "    #{'groupby': ['ip', 'app', 'device', 'os', 'channel']}\n",
    "]"
   ]
  },
  {
   "cell_type": "code",
   "execution_count": 13,
   "metadata": {},
   "outputs": [
    {
     "name": "stdout",
     "output_type": "stream",
     "text": [
      "{'groupby': ['ip']}\n"
     ]
    },
    {
     "ename": "MemoryError",
     "evalue": "",
     "output_type": "error",
     "traceback": [
      "\u001b[0;31m---------------------------------------------------------------------------\u001b[0m",
      "\u001b[0;31mMemoryError\u001b[0m                               Traceback (most recent call last)",
      "\u001b[0;32m<ipython-input-13-8f084958401e>\u001b[0m in \u001b[0;36m<module>\u001b[0;34m()\u001b[0m\n\u001b[1;32m      4\u001b[0m     \u001b[0mall_features\u001b[0m \u001b[0;34m=\u001b[0m \u001b[0mspec\u001b[0m\u001b[0;34m[\u001b[0m\u001b[0;34m'groupby'\u001b[0m\u001b[0;34m]\u001b[0m \u001b[0;34m+\u001b[0m \u001b[0;34m[\u001b[0m\u001b[0;34m'click_time'\u001b[0m\u001b[0;34m]\u001b[0m\u001b[0;34m\u001b[0m\u001b[0m\n\u001b[1;32m      5\u001b[0m     \u001b[0mprint\u001b[0m\u001b[0;34m(\u001b[0m\u001b[0mspec\u001b[0m\u001b[0;34m)\u001b[0m\u001b[0;34m\u001b[0m\u001b[0m\n\u001b[0;32m----> 6\u001b[0;31m     \u001b[0mdf_merge\u001b[0m\u001b[0;34m[\u001b[0m\u001b[0mnew_feature\u001b[0m\u001b[0;34m]\u001b[0m \u001b[0;34m=\u001b[0m \u001b[0mdf_merge\u001b[0m\u001b[0;34m[\u001b[0m\u001b[0mall_features\u001b[0m\u001b[0;34m]\u001b[0m\u001b[0;34m.\u001b[0m\u001b[0mgroupby\u001b[0m\u001b[0;34m(\u001b[0m\u001b[0mspec\u001b[0m\u001b[0;34m[\u001b[0m\u001b[0;34m'groupby'\u001b[0m\u001b[0;34m]\u001b[0m\u001b[0;34m)\u001b[0m\u001b[0;34m.\u001b[0m\u001b[0mclick_time\u001b[0m\u001b[0;34m.\u001b[0m\u001b[0mtransform\u001b[0m\u001b[0;34m(\u001b[0m\u001b[0;32mlambda\u001b[0m \u001b[0mx\u001b[0m\u001b[0;34m:\u001b[0m \u001b[0mx\u001b[0m\u001b[0;34m.\u001b[0m\u001b[0mdiff\u001b[0m\u001b[0;34m(\u001b[0m\u001b[0;34m)\u001b[0m\u001b[0;34m.\u001b[0m\u001b[0mshift\u001b[0m\u001b[0;34m(\u001b[0m\u001b[0;34m-\u001b[0m\u001b[0;36m1\u001b[0m\u001b[0;34m)\u001b[0m\u001b[0;34m)\u001b[0m\u001b[0;34m.\u001b[0m\u001b[0mdt\u001b[0m\u001b[0;34m.\u001b[0m\u001b[0mseconds\u001b[0m\u001b[0;34m\u001b[0m\u001b[0m\n\u001b[0m\u001b[1;32m      7\u001b[0m     \u001b[0mgc\u001b[0m\u001b[0;34m.\u001b[0m\u001b[0mcollect\u001b[0m\u001b[0;34m(\u001b[0m\u001b[0;34m)\u001b[0m\u001b[0;34m\u001b[0m\u001b[0m\n\u001b[1;32m      8\u001b[0m \u001b[0mpickle\u001b[0m\u001b[0;34m.\u001b[0m\u001b[0mdump\u001b[0m\u001b[0;34m(\u001b[0m\u001b[0mdf_merge\u001b[0m\u001b[0;34m,\u001b[0m \u001b[0mopen\u001b[0m\u001b[0;34m(\u001b[0m\u001b[0;34m\"df_merge.p\"\u001b[0m\u001b[0;34m,\u001b[0m \u001b[0;34m\"wb\"\u001b[0m\u001b[0;34m)\u001b[0m\u001b[0;34m,\u001b[0m \u001b[0mprotocol\u001b[0m\u001b[0;34m=\u001b[0m\u001b[0;36m4\u001b[0m\u001b[0;34m)\u001b[0m\u001b[0;34m\u001b[0m\u001b[0m\n",
      "\u001b[0;32m/usr/local/lib/python3.5/dist-packages/pandas/core/groupby.py\u001b[0m in \u001b[0;36mtransform\u001b[0;34m(self, func, *args, **kwargs)\u001b[0m\n\u001b[1;32m   3303\u001b[0m \u001b[0;34m\u001b[0m\u001b[0m\n\u001b[1;32m   3304\u001b[0m         \u001b[0;32mfrom\u001b[0m \u001b[0mpandas\u001b[0m\u001b[0;34m.\u001b[0m\u001b[0mcore\u001b[0m\u001b[0;34m.\u001b[0m\u001b[0mreshape\u001b[0m\u001b[0;34m.\u001b[0m\u001b[0mconcat\u001b[0m \u001b[0;32mimport\u001b[0m \u001b[0mconcat\u001b[0m\u001b[0;34m\u001b[0m\u001b[0m\n\u001b[0;32m-> 3305\u001b[0;31m         \u001b[0mresult\u001b[0m \u001b[0;34m=\u001b[0m \u001b[0mconcat\u001b[0m\u001b[0;34m(\u001b[0m\u001b[0mresults\u001b[0m\u001b[0;34m)\u001b[0m\u001b[0;34m.\u001b[0m\u001b[0msort_index\u001b[0m\u001b[0;34m(\u001b[0m\u001b[0;34m)\u001b[0m\u001b[0;34m\u001b[0m\u001b[0m\n\u001b[0m\u001b[1;32m   3306\u001b[0m \u001b[0;34m\u001b[0m\u001b[0m\n\u001b[1;32m   3307\u001b[0m         \u001b[0;31m# we will only try to coerce the result type if\u001b[0m\u001b[0;34m\u001b[0m\u001b[0;34m\u001b[0m\u001b[0m\n",
      "\u001b[0;32m/usr/local/lib/python3.5/dist-packages/pandas/core/series.py\u001b[0m in \u001b[0;36msort_index\u001b[0;34m(self, axis, level, ascending, inplace, kind, na_position, sort_remaining)\u001b[0m\n\u001b[1;32m   1966\u001b[0m \u001b[0;34m\u001b[0m\u001b[0m\n\u001b[1;32m   1967\u001b[0m             indexer = nargsort(index, kind=kind, ascending=ascending,\n\u001b[0;32m-> 1968\u001b[0;31m                                na_position=na_position)\n\u001b[0m\u001b[1;32m   1969\u001b[0m \u001b[0;34m\u001b[0m\u001b[0m\n\u001b[1;32m   1970\u001b[0m         \u001b[0mindexer\u001b[0m \u001b[0;34m=\u001b[0m \u001b[0m_ensure_platform_int\u001b[0m\u001b[0;34m(\u001b[0m\u001b[0mindexer\u001b[0m\u001b[0;34m)\u001b[0m\u001b[0;34m\u001b[0m\u001b[0m\n",
      "\u001b[0;32m/usr/local/lib/python3.5/dist-packages/pandas/core/sorting.py\u001b[0m in \u001b[0;36mnargsort\u001b[0;34m(items, kind, ascending, na_position)\u001b[0m\n\u001b[1;32m    240\u001b[0m \u001b[0;34m\u001b[0m\u001b[0m\n\u001b[1;32m    241\u001b[0m     \u001b[0mitems\u001b[0m \u001b[0;34m=\u001b[0m \u001b[0mnp\u001b[0m\u001b[0;34m.\u001b[0m\u001b[0masanyarray\u001b[0m\u001b[0;34m(\u001b[0m\u001b[0mitems\u001b[0m\u001b[0;34m)\u001b[0m\u001b[0;34m\u001b[0m\u001b[0m\n\u001b[0;32m--> 242\u001b[0;31m     \u001b[0midx\u001b[0m \u001b[0;34m=\u001b[0m \u001b[0mnp\u001b[0m\u001b[0;34m.\u001b[0m\u001b[0marange\u001b[0m\u001b[0;34m(\u001b[0m\u001b[0mlen\u001b[0m\u001b[0;34m(\u001b[0m\u001b[0mitems\u001b[0m\u001b[0;34m)\u001b[0m\u001b[0;34m)\u001b[0m\u001b[0;34m\u001b[0m\u001b[0m\n\u001b[0m\u001b[1;32m    243\u001b[0m     \u001b[0mmask\u001b[0m \u001b[0;34m=\u001b[0m \u001b[0misna\u001b[0m\u001b[0;34m(\u001b[0m\u001b[0mitems\u001b[0m\u001b[0;34m)\u001b[0m\u001b[0;34m\u001b[0m\u001b[0m\n\u001b[1;32m    244\u001b[0m     \u001b[0mnon_nans\u001b[0m \u001b[0;34m=\u001b[0m \u001b[0mitems\u001b[0m\u001b[0;34m[\u001b[0m\u001b[0;34m~\u001b[0m\u001b[0mmask\u001b[0m\u001b[0;34m]\u001b[0m\u001b[0;34m\u001b[0m\u001b[0m\n",
      "\u001b[0;31mMemoryError\u001b[0m: "
     ]
    }
   ],
   "source": [
    "# Calcula o tempo até o próximo clique para cada agrupamento\n",
    "for spec in GROUP_BY_NEXT_CLICKS:\n",
    "    new_feature = '{}_nextClick'.format('_'.join(spec['groupby']))    \n",
    "    all_features = spec['groupby'] + ['click_time']\n",
    "    print(spec)\n",
    "    df_merge[new_feature] = df_merge[all_features].groupby(spec['groupby']).click_time.transform(lambda x: x.diff().shift(-1)).dt.seconds\n",
    "    gc.collect()\n",
    "pickle.dump(df_merge, open(\"df_merge.p\", \"wb\"), protocol=4)"
   ]
  },
  {
   "cell_type": "code",
   "execution_count": 11,
   "metadata": {},
   "outputs": [
    {
     "data": {
      "text/plain": [
       "72"
      ]
     },
     "execution_count": 11,
     "metadata": {},
     "output_type": "execute_result"
    }
   ],
   "source": [
    "gc.collect()"
   ]
  },
  {
   "cell_type": "code",
   "execution_count": null,
   "metadata": {},
   "outputs": [],
   "source": []
  },
  {
   "cell_type": "code",
   "execution_count": null,
   "metadata": {},
   "outputs": [],
   "source": []
  },
  {
   "cell_type": "markdown",
   "metadata": {},
   "source": [
    "## 4. Machine learning"
   ]
  },
  {
   "cell_type": "code",
   "execution_count": 3,
   "metadata": {},
   "outputs": [],
   "source": [
    "# Iniciando a partir deste ponto!\n",
    "df_train = pickle.load(open(\"df_train_2.p\", \"rb\"))\n",
    "df_test = pickle.load(open(\"df_test_2.p\", \"rb\"))\n",
    "\n",
    "y_train = pickle.load(open(\"y_train.p\", \"rb\"))"
   ]
  },
  {
   "cell_type": "markdown",
   "metadata": {},
   "source": [
    "#### Importando pacotes para a validação cruzada e avaliação dos modelos"
   ]
  },
  {
   "cell_type": "code",
   "execution_count": 4,
   "metadata": {},
   "outputs": [],
   "source": [
    "from sklearn import model_selection \n",
    "\n",
    "from sklearn.metrics import confusion_matrix \n",
    "from sklearn.metrics import classification_report\n",
    "from sklearn.metrics import roc_auc_score \n",
    "from sklearn.metrics import roc_curve\n",
    "from sklearn.metrics import accuracy_score\n",
    "from sklearn.metrics import average_precision_score\n",
    "from sklearn.metrics import f1_score "
   ]
  },
  {
   "cell_type": "markdown",
   "metadata": {},
   "source": [
    "#### Criando funções para ajudar a avaliar os modelos"
   ]
  },
  {
   "cell_type": "code",
   "execution_count": 5,
   "metadata": {},
   "outputs": [],
   "source": [
    "# Fonte: https://github.com/rsouza/FGV_Intro_DS/blob/master/notebooks/10-ML_Kaggle_Titanic.ipynb\n",
    "def plot_confusion_matrix(cm, classes,\n",
    "                          normalize=False,\n",
    "                          title='Confusion matrix',\n",
    "                          cmap=plt.cm.Blues):\n",
    "    \"\"\"\n",
    "    This function prints and plots the confusion matrix.\n",
    "    Normalization can be applied by setting `normalize=True`.\n",
    "    \"\"\"\n",
    "\n",
    "    plt.imshow(cm, interpolation='nearest', cmap=cmap, aspect='auto')\n",
    "    plt.title(title)\n",
    "    plt.colorbar()\n",
    "    tick_marks = np.arange(len(classes))\n",
    "    plt.xticks(tick_marks, classes, rotation=45)\n",
    "    plt.yticks(tick_marks, classes)\n",
    "    \n",
    "    if normalize:\n",
    "        cm = cm.astype('float') / cm.sum(axis=1)[:, np.newaxis]\n",
    "        print(\"Normalized confusion matrix\")\n",
    "    else:\n",
    "        print('Confusion matrix, without normalization')\n",
    "\n",
    "    print(cm)\n",
    "\n",
    "    thresh = cm.max() / 2.\n",
    "    for i, j in itertools.product(range(cm.shape[0]), range(cm.shape[1])):\n",
    "        plt.text(j, i, cm[i, j],\n",
    "                 horizontalalignment=\"center\",\n",
    "                 color=\"white\" if cm[i, j] > thresh else \"black\")\n",
    "\n",
    "    plt.tight_layout()\n",
    "    plt.ylabel('True label')\n",
    "    plt.xlabel('Predicted label')\n",
    "    \n",
    "def clf_eval(clf, X, y_true, classes=['Não Baixou', 'Baixou'], normalize=True):\n",
    "    y_pred = clf.predict(X)\n",
    "    clf_matrix = confusion_matrix(y_true, y_pred)\n",
    "    print('Classification Report')\n",
    "    print(classification_report(y_true, y_pred, target_names=classes))\n",
    "    print('ROC Score: {}'.format(roc_auc_score(y_true, y_pred)))\n",
    "    print('Accuracy Score: {}'.format(accuracy_score(y_true, y_pred)))\n",
    "    print('Average Precision Score: {}'.format(average_precision_score(y_true, y_pred)))\n",
    "    print('f1 Score: {}'.format(f1_score(y_true, y_pred)))\n",
    "    plot_confusion_matrix(clf_matrix, classes=classes, normalize=normalize)\n",
    "    return roc_auc_score(y_true, y_pred)"
   ]
  },
  {
   "cell_type": "markdown",
   "metadata": {},
   "source": [
    "#### Validação-cruzada (70% treinamento / 30% teste)\n",
    "\n",
    "Para avaliar o desempenho do modelo antes de fazer a predição, vamos criar um conjunto de validação (30% dos dados de treinamento) no qual podemos mdedir o desempenho do modelo e fazer suposições sobre a generalização em dados não visto (conjunto teste)."
   ]
  },
  {
   "cell_type": "code",
   "execution_count": 6,
   "metadata": {},
   "outputs": [],
   "source": [
    "X_traincv, X_testcv, y_traincv, y_testcv = model_selection.train_test_split(df_train,\n",
    "                                                                            y_train,\n",
    "                                                                            test_size=0.3,\n",
    "                                                                            random_state=0)"
   ]
  },
  {
   "cell_type": "code",
   "execution_count": 7,
   "metadata": {},
   "outputs": [
    {
     "name": "stdout",
     "output_type": "stream",
     "text": [
      "(12941826, 14)\n",
      "(5546497, 14)\n",
      "(12941826,)\n",
      "(5546497,)\n"
     ]
    }
   ],
   "source": [
    "print(X_traincv.shape)\n",
    "print(X_testcv.shape)\n",
    "print(y_traincv.shape)\n",
    "print(y_testcv.shape)"
   ]
  },
  {
   "cell_type": "markdown",
   "metadata": {},
   "source": [
    "#### Selecionando as features"
   ]
  },
  {
   "cell_type": "code",
   "execution_count": 8,
   "metadata": {},
   "outputs": [
    {
     "data": {
      "text/plain": [
       "['ip',\n",
       " 'app',\n",
       " 'device',\n",
       " 'os',\n",
       " 'channel',\n",
       " 'day',\n",
       " 'hour',\n",
       " 'clicks_by_ip',\n",
       " 'clicks_by_app',\n",
       " 'clicks_by_os',\n",
       " 'clicks_by_channel',\n",
       " 'ip_day_hour',\n",
       " 'ip_app',\n",
       " 'ip_app_os']"
      ]
     },
     "execution_count": 8,
     "metadata": {},
     "output_type": "execute_result"
    }
   ],
   "source": [
    "# Selecionando todas as features\n",
    "all_features = list(X_traincv.columns)\n",
    "all_features"
   ]
  },
  {
   "cell_type": "code",
   "execution_count": 9,
   "metadata": {},
   "outputs": [
    {
     "data": {
      "text/plain": [
       "['ip', 'app', 'device', 'os', 'channel', 'day', 'hour']"
      ]
     },
     "execution_count": 9,
     "metadata": {},
     "output_type": "execute_result"
    }
   ],
   "source": [
    "# Selecionando apenas as features originais e as novas features de tempo \n",
    "base_features = all_features[:7]\n",
    "base_features"
   ]
  },
  {
   "cell_type": "code",
   "execution_count": 10,
   "metadata": {},
   "outputs": [
    {
     "data": {
      "text/plain": [
       "['clicks_by_ip',\n",
       " 'clicks_by_app',\n",
       " 'clicks_by_os',\n",
       " 'clicks_by_channel',\n",
       " 'ip_day_hour',\n",
       " 'ip_app',\n",
       " 'ip_app_os']"
      ]
     },
     "execution_count": 10,
     "metadata": {},
     "output_type": "execute_result"
    }
   ],
   "source": [
    "# Selecionando apenas as novas features de contagem \n",
    "count_features = all_features[7:]\n",
    "count_features"
   ]
  },
  {
   "cell_type": "markdown",
   "metadata": {},
   "source": [
    "### 4.1. Random Forest \n",
    "\n",
    "Fontes: \n",
    "* https://www.kaggle.com/codeastar/random-forest-classification-on-talkingdata/code\n",
    "\n",
    "* https://www.kaggle.com/jiegzhan/adtracking-fraud-detection"
   ]
  },
  {
   "cell_type": "code",
   "execution_count": 23,
   "metadata": {},
   "outputs": [],
   "source": [
    "# Tutotrial: http://scikit-learn.org/stable/modules/generated/sklearn.ensemble.RandomForestClassifier.html\n",
    "# Example: https://chrisalbon.com/machine_learning/trees_and_forests/random_forest_classifier_example/\n",
    "from sklearn.ensemble import RandomForestClassifier\n",
    "\n",
    "clf_rf = RandomForestClassifier(n_estimators=13, \n",
    "                                criterion='gini', \n",
    "                                max_depth=20, \n",
    "                                min_samples_split=2,\n",
    "                                min_samples_leaf=1, \n",
    "                                min_weight_fraction_leaf=0.0, \n",
    "                                max_features='auto', \n",
    "                                max_leaf_nodes=None, \n",
    "                                bootstrap=True, \n",
    "                                oob_score=False, \n",
    "                                n_jobs=-1, \n",
    "                                random_state=0, \n",
    "                                verbose=0, \n",
    "                                warm_start=False, \n",
    "                                class_weight=None)"
   ]
  },
  {
   "cell_type": "markdown",
   "metadata": {},
   "source": [
    "#### 4.1.1. Random Forest - Baseline\n",
    "\n",
    "A primeira ideia é usar o **Random Forest** usando apenas as *features* originais, alterando apenas a `click_time` que foi dropada após a criação das *features* `day` e `hour`."
   ]
  },
  {
   "cell_type": "code",
   "execution_count": 24,
   "metadata": {},
   "outputs": [],
   "source": [
    "X_traincv_base = X_traincv[base_features]\n",
    "X_testcv_base = X_testcv[base_features]"
   ]
  },
  {
   "cell_type": "code",
   "execution_count": 25,
   "metadata": {},
   "outputs": [
    {
     "name": "stdout",
     "output_type": "stream",
     "text": [
      "Train RandomForest df_train with 221 seconds\n"
     ]
    }
   ],
   "source": [
    "start_time = time.time()\n",
    "clf_rf_base = clf_rf.fit(X_traincv_base, y_traincv)\n",
    "print('Train RandomForest df_train with {} seconds'.format(round(time.time() - start_time), 3))"
   ]
  },
  {
   "cell_type": "code",
   "execution_count": 29,
   "metadata": {},
   "outputs": [
    {
     "name": "stdout",
     "output_type": "stream",
     "text": [
      "Classification Report\n",
      "             precision    recall  f1-score   support\n",
      "\n",
      " Não Baixou       1.00      1.00      1.00   5532672\n",
      "     Baixou       0.73      0.36      0.48     13825\n",
      "\n",
      "avg / total       1.00      1.00      1.00   5546497\n",
      "\n",
      "ROC Score: 0.6798316365040256\n",
      "Accuracy Score: 0.9980688712172746\n",
      "Average Precision Score: 0.26354260952548303\n",
      "f1 Score: 0.4816840067747399\n",
      "Normalized confusion matrix\n",
      "[[9.99663273e-01 3.36726992e-04]\n",
      " [6.40000000e-01 3.60000000e-01]]\n"
     ]
    },
    {
     "data": {
      "image/png": "[encoded data removed]",
      "text/plain": [
       "<Figure size 432x288 with 2 Axes>"
      ]
     },
     "metadata": {},
     "output_type": "display_data"
    }
   ],
   "source": [
    "# Avaliando o modelo\n",
    "roc_rf_base = clf_eval(clf_rf_base, X_testcv_base, y_testcv)"
   ]
  },
  {
   "cell_type": "code",
   "execution_count": 30,
   "metadata": {},
   "outputs": [
    {
     "data": {
      "text/plain": [
       "9023"
      ]
     },
     "execution_count": 30,
     "metadata": {},
     "output_type": "execute_result"
    }
   ],
   "source": [
    "del X_traincv_base, X_testcv_base\n",
    "gc.collect()"
   ]
  },
  {
   "cell_type": "markdown",
   "metadata": {},
   "source": [
    "#### 4.1.2. Random Forest - Novas *features* de contagem\n",
    "\n",
    "Vamos tentar melhorar o modelo **Random Forest** usando apenas as *features* criadas."
   ]
  },
  {
   "cell_type": "code",
   "execution_count": 60,
   "metadata": {},
   "outputs": [],
   "source": [
    "X_traincv_count = X_traincv[count_features]\n",
    "X_testcv_count = X_testcv[count_features]"
   ]
  },
  {
   "cell_type": "code",
   "execution_count": 61,
   "metadata": {},
   "outputs": [
    {
     "name": "stdout",
     "output_type": "stream",
     "text": [
      "Train RandomForest df_train with 266 seconds\n"
     ]
    }
   ],
   "source": [
    "start_time = time.time()\n",
    "clf_rf_count = clf_rf.fit(X_traincv_count, y_traincv)\n",
    "print('Train RandomForest df_train with {} seconds'.format(round(time.time() - start_time), 3))"
   ]
  },
  {
   "cell_type": "code",
   "execution_count": 62,
   "metadata": {},
   "outputs": [
    {
     "name": "stdout",
     "output_type": "stream",
     "text": [
      "Classification Report\n",
      "             precision    recall  f1-score   support\n",
      "\n",
      " Não Baixou       1.00      1.00      1.00   5532672\n",
      "     Baixou       0.77      0.39      0.52     13825\n",
      "\n",
      "avg / total       1.00      1.00      1.00   5546497\n",
      "\n",
      "ROC Score: 0.6952998883355942\n",
      "Accuracy Score: 0.9981961587647122\n",
      "Average Precision Score: 0.3038005043501139\n",
      "f1 Score: 0.5192908278479796\n",
      "Normalized confusion matrix\n",
      "[[9.99713701e-01 2.86299278e-04]\n",
      " [6.09113924e-01 3.90886076e-01]]\n"
     ]
    },
    {
     "data": {
      "image/png": "[encoded data removed]",
      "text/plain": [
       "<Figure size 432x288 with 2 Axes>"
      ]
     },
     "metadata": {},
     "output_type": "display_data"
    }
   ],
   "source": [
    "# Avaliando o modelo\n",
    "roc_rf_count = clf_eval(clf_rf_count, X_testcv_count, y_testcv)"
   ]
  },
  {
   "cell_type": "code",
   "execution_count": 115,
   "metadata": {},
   "outputs": [
    {
     "data": {
      "text/plain": [
       "7589"
      ]
     },
     "execution_count": 115,
     "metadata": {},
     "output_type": "execute_result"
    }
   ],
   "source": [
    "del X_traincv_count, X_testcv_count\n",
    "gc.collect()"
   ]
  },
  {
   "cell_type": "markdown",
   "metadata": {},
   "source": [
    "#### 4.1.3. Random Forest - Todas as *features* \n",
    "\n",
    "Será que se usarmos todas as *features* conseguimos melhorar o modelo?"
   ]
  },
  {
   "cell_type": "code",
   "execution_count": 112,
   "metadata": {},
   "outputs": [],
   "source": [
    "X_traincv_all = X_traincv[all_features]\n",
    "X_testcv_all = X_testcv[all_features]"
   ]
  },
  {
   "cell_type": "code",
   "execution_count": 113,
   "metadata": {},
   "outputs": [
    {
     "name": "stdout",
     "output_type": "stream",
     "text": [
      "Train RandomForest df_train with 328 seconds\n"
     ]
    }
   ],
   "source": [
    "start_time = time.time()\n",
    "clf_rf_all = clf_rf.fit(X_traincv_all, y_traincv)\n",
    "print('Train RandomForest df_train with {} seconds'.format(round(time.time() - start_time), 3))"
   ]
  },
  {
   "cell_type": "code",
   "execution_count": 114,
   "metadata": {},
   "outputs": [
    {
     "name": "stdout",
     "output_type": "stream",
     "text": [
      "Classification Report\n",
      "             precision    recall  f1-score   support\n",
      "\n",
      " Não Baixou       1.00      1.00      1.00   5532672\n",
      "     Baixou       0.74      0.43      0.55     13825\n",
      "\n",
      "avg / total       1.00      1.00      1.00   5546497\n",
      "\n",
      "ROC Score: 0.7162705234686338\n",
      "Accuracy Score: 0.9982170728659909\n",
      "Average Precision Score: 0.32391471009650374\n",
      "f1 Score: 0.5476005306738643\n",
      "Normalized confusion matrix\n",
      "[[9.99629655e-01 3.70345468e-04]\n",
      " [5.67088608e-01 4.32911392e-01]]\n"
     ]
    },
    {
     "data": {
      "image/png": "[encoded data removed]",
      "text/plain": [
       "<Figure size 432x288 with 2 Axes>"
      ]
     },
     "metadata": {},
     "output_type": "display_data"
    }
   ],
   "source": [
    "# Avaliando o modelo\n",
    "roc_rf_all = clf_eval(clf_rf_all, X_testcv_all, y_testcv)"
   ]
  },
  {
   "cell_type": "markdown",
   "metadata": {},
   "source": [
    "#### Importância das *features*"
   ]
  },
  {
   "cell_type": "code",
   "execution_count": 58,
   "metadata": {},
   "outputs": [
    {
     "data": {
      "text/html": [
       "<div>\n",
       "<style scoped>\n",
       "    .dataframe tbody tr th:only-of-type {\n",
       "        vertical-align: middle;\n",
       "    }\n",
       "\n",
       "    .dataframe tbody tr th {\n",
       "        vertical-align: top;\n",
       "    }\n",
       "\n",
       "    .dataframe thead th {\n",
       "        text-align: right;\n",
       "    }\n",
       "</style>\n",
       "<table border=\"1\" class=\"dataframe\">\n",
       "  <thead>\n",
       "    <tr style=\"text-align: right;\">\n",
       "      <th></th>\n",
       "      <th>clf_rf_all</th>\n",
       "    </tr>\n",
       "  </thead>\n",
       "  <tbody>\n",
       "    <tr>\n",
       "      <th>clicks_by_ip</th>\n",
       "      <td>0.153002</td>\n",
       "    </tr>\n",
       "    <tr>\n",
       "      <th>app</th>\n",
       "      <td>0.124491</td>\n",
       "    </tr>\n",
       "    <tr>\n",
       "      <th>clicks_by_app</th>\n",
       "      <td>0.106413</td>\n",
       "    </tr>\n",
       "    <tr>\n",
       "      <th>channel</th>\n",
       "      <td>0.105680</td>\n",
       "    </tr>\n",
       "    <tr>\n",
       "      <th>ip</th>\n",
       "      <td>0.092843</td>\n",
       "    </tr>\n",
       "    <tr>\n",
       "      <th>clicks_by_channel</th>\n",
       "      <td>0.079798</td>\n",
       "    </tr>\n",
       "    <tr>\n",
       "      <th>hour</th>\n",
       "      <td>0.061554</td>\n",
       "    </tr>\n",
       "    <tr>\n",
       "      <th>ip_day_hour</th>\n",
       "      <td>0.061316</td>\n",
       "    </tr>\n",
       "    <tr>\n",
       "      <th>os</th>\n",
       "      <td>0.059109</td>\n",
       "    </tr>\n",
       "    <tr>\n",
       "      <th>ip_app</th>\n",
       "      <td>0.041592</td>\n",
       "    </tr>\n",
       "    <tr>\n",
       "      <th>clicks_by_os</th>\n",
       "      <td>0.039712</td>\n",
       "    </tr>\n",
       "    <tr>\n",
       "      <th>device</th>\n",
       "      <td>0.039385</td>\n",
       "    </tr>\n",
       "    <tr>\n",
       "      <th>day</th>\n",
       "      <td>0.019797</td>\n",
       "    </tr>\n",
       "    <tr>\n",
       "      <th>ip_app_os</th>\n",
       "      <td>0.015309</td>\n",
       "    </tr>\n",
       "  </tbody>\n",
       "</table>\n",
       "</div>"
      ],
      "text/plain": [
       "                   clf_rf_all\n",
       "clicks_by_ip         0.153002\n",
       "app                  0.124491\n",
       "clicks_by_app        0.106413\n",
       "channel              0.105680\n",
       "ip                   0.092843\n",
       "clicks_by_channel    0.079798\n",
       "hour                 0.061554\n",
       "ip_day_hour          0.061316\n",
       "os                   0.059109\n",
       "ip_app               0.041592\n",
       "clicks_by_os         0.039712\n",
       "device               0.039385\n",
       "day                  0.019797\n",
       "ip_app_os            0.015309"
      ]
     },
     "execution_count": 58,
     "metadata": {},
     "output_type": "execute_result"
    }
   ],
   "source": [
    "features = list(X_testcv_all.columns)\n",
    "df_fi = pd.DataFrame({\n",
    "                      'clf_rf_all':clf_rf_all.feature_importances_,\n",
    "                     },\n",
    "                      index=features)\n",
    "df_fi.sort_values(by=['clf_rf_all'], ascending=False)"
   ]
  },
  {
   "cell_type": "code",
   "execution_count": 116,
   "metadata": {},
   "outputs": [
    {
     "data": {
      "text/plain": [
       "14"
      ]
     },
     "execution_count": 116,
     "metadata": {},
     "output_type": "execute_result"
    }
   ],
   "source": [
    "del X_traincv_all, X_testcv_all\n",
    "gc.collect()"
   ]
  },
  {
   "cell_type": "markdown",
   "metadata": {},
   "source": [
    "### 4.2. LGBM\n",
    "\n",
    "Fontes: \n",
    "* https://www.kaggle.com/graf10a/pranav-s-lgbm-lb-0-9699?scriptVersionId=3073843/code"
   ]
  },
  {
   "cell_type": "code",
   "execution_count": 16,
   "metadata": {},
   "outputs": [],
   "source": [
    "# Fonte: https://github.com/rsouza/FGV_Intro_DS/blob/master/notebooks/10-ML_Kaggle_Titanic.ipynb\n",
    "import lightgbm as lgb\n",
    "\n",
    "clf_lgb = lgb.LGBMClassifier(boosting_type = 'gbdt',\n",
    "                             objective = 'binary',\n",
    "                             metric = 'auc',\n",
    "                             learning_rate = 0.1,\n",
    "                             #'is_unbalance': 'true',  #because training data is unbalance (replaced with scale_pos_weight)\n",
    "                             num_leaves = 7,  # we should let it be smaller than 2^(max_depth)\n",
    "                             max_depth = 3,  # -1 means no limit\n",
    "                             min_child_samples = 100,  # 100 Minimum number of data need in a child(min_data_in_leaf)\n",
    "                             max_bin = 100,  # Number of bucketed bin for feature values\n",
    "                             subsample = 0.7,  #0.7 Subsample ratio of the training instance\n",
    "                             subsample_freq = 1,  # 1 frequence of subsample, <=0 means no enable\n",
    "                             colsample_bytree = 0.7, # 0.7 Subsample ratio of columns when constructing each tree\n",
    "                             min_child_weight = 0,  # 0 Minimum sum of instance weight(hessian) needed in a child(leaf)\n",
    "                             subsample_for_bin = 200000,  # Number of samples for constructing bin\n",
    "                             min_split_gain = 0,  # lambda_l1, lambda_l2 and min_gain_to_split to regularization\n",
    "                             reg_alpha = 0,  # 5 L1 regularization term on weights\n",
    "                             reg_lambda = 0,  # 10 L2 regularization term on weights\n",
    "                             scale_pos_weight = 99,\n",
    "                             #num_class = 1,\n",
    "                             n_jobs = -1,\n",
    "                             silent = True,\n",
    "                             verbose = 0,\n",
    "                             nthread =  8)"
   ]
  },
  {
   "cell_type": "markdown",
   "metadata": {},
   "source": [
    "#### 4.2.1. LGBM - Todas as *features* "
   ]
  },
  {
   "cell_type": "code",
   "execution_count": 17,
   "metadata": {},
   "outputs": [],
   "source": [
    "X_traincv_all = X_traincv[all_features]\n",
    "X_testcv_all = X_testcv[all_features]"
   ]
  },
  {
   "cell_type": "code",
   "execution_count": 20,
   "metadata": {},
   "outputs": [
    {
     "name": "stdout",
     "output_type": "stream",
     "text": [
      "Train LGBM df_train with 71 seconds\n"
     ]
    }
   ],
   "source": [
    "start_time = time.time()\n",
    "clf_lgb_all = clf_lgb.fit(X_traincv_all, y_traincv)\n",
    "print('Train LGBM df_train with {} seconds'.format(round(time.time() - start_time), 3))"
   ]
  },
  {
   "cell_type": "code",
   "execution_count": 21,
   "metadata": {},
   "outputs": [
    {
     "name": "stderr",
     "output_type": "stream",
     "text": [
      "/usr/local/lib/python3.5/dist-packages/sklearn/preprocessing/label.py:151: DeprecationWarning: The truth value of an empty array is ambiguous. Returning False, but in future this will result in an error. Use `array.size > 0` to check that an array is not empty.\n",
      "  if diff:\n"
     ]
    },
    {
     "name": "stdout",
     "output_type": "stream",
     "text": [
      "Classification Report\n",
      "             precision    recall  f1-score   support\n",
      "\n",
      " Não Baixou       1.00      0.98      0.99   5532672\n",
      "     Baixou       0.11      0.84      0.19     13825\n",
      "\n",
      "avg / total       1.00      0.98      0.99   5546497\n",
      "\n",
      "ROC Score: 0.9107158555570226\n",
      "Accuracy Score: 0.9826625706279116\n",
      "Average Precision Score: 0.09249988730227375\n",
      "f1 Score: 0.19424520713232338\n",
      "Normalized confusion matrix\n",
      "[[0.98302303 0.01697697]\n",
      " [0.16159132 0.83840868]]\n"
     ]
    },
    {
     "data": {
      "image/png": "[encoded data removed]",
      "text/plain": [
       "<Figure size 432x288 with 2 Axes>"
      ]
     },
     "metadata": {},
     "output_type": "display_data"
    }
   ],
   "source": [
    "# Avaliando o modelo\n",
    "roc_lgb_all = clf_eval(clf_lgb_all, X_testcv_all, y_testcv)"
   ]
  },
  {
   "cell_type": "code",
   "execution_count": null,
   "metadata": {},
   "outputs": [],
   "source": []
  },
  {
   "cell_type": "code",
   "execution_count": null,
   "metadata": {},
   "outputs": [],
   "source": []
  },
  {
   "cell_type": "code",
   "execution_count": null,
   "metadata": {},
   "outputs": [],
   "source": []
  },
  {
   "cell_type": "code",
   "execution_count": null,
   "metadata": {},
   "outputs": [],
   "source": []
  },
  {
   "cell_type": "code",
   "execution_count": null,
   "metadata": {},
   "outputs": [],
   "source": []
  },
  {
   "cell_type": "code",
   "execution_count": null,
   "metadata": {},
   "outputs": [],
   "source": []
  },
  {
   "cell_type": "code",
   "execution_count": null,
   "metadata": {},
   "outputs": [],
   "source": []
  },
  {
   "cell_type": "code",
   "execution_count": null,
   "metadata": {},
   "outputs": [],
   "source": []
  },
  {
   "cell_type": "markdown",
   "metadata": {},
   "source": [
    "## 5. Predição\n",
    "\n",
    "Depois de rodar o modelo escolhido na fase anterior, vamos fazer a predição do conjunto teste."
   ]
  },
  {
   "cell_type": "code",
   "execution_count": 178,
   "metadata": {},
   "outputs": [],
   "source": [
    "# Modelo escolhido\n",
    "#clf_rf = clf_rf_base    # RandomForest apenas com as features originais \n",
    "#clf_rf = clf_rf_count   # RandomForest apenas com as features criadas\n",
    "#clf_rf = clf_rf_all     # RandomForest com todas as features\n",
    "\n",
    "clf_rf = clf_lgb_all     # LGBM com todas as features"
   ]
  },
  {
   "cell_type": "code",
   "execution_count": 179,
   "metadata": {},
   "outputs": [
    {
     "name": "stdout",
     "output_type": "stream",
     "text": [
      "Predict LGBM df_test done with 48.141597270965576 seconds\n"
     ]
    },
    {
     "name": "stderr",
     "output_type": "stream",
     "text": [
      "/usr/local/lib/python3.5/dist-packages/sklearn/preprocessing/label.py:151: DeprecationWarning: The truth value of an empty array is ambiguous. Returning False, but in future this will result in an error. Use `array.size > 0` to check that an array is not empty.\n",
      "  if diff:\n"
     ]
    }
   ],
   "source": [
    "start_time = time.time()\n",
    "predictions = clf_rf.predict(df_test[all_features])\n",
    "print('Predict LGBM df_test done with {} seconds'.format(time.time() - start_time))"
   ]
  },
  {
   "cell_type": "markdown",
   "metadata": {},
   "source": [
    "## 6. Submissão"
   ]
  },
  {
   "cell_type": "code",
   "execution_count": 180,
   "metadata": {},
   "outputs": [
    {
     "data": {
      "text/html": [
       "<div>\n",
       "<style scoped>\n",
       "    .dataframe tbody tr th:only-of-type {\n",
       "        vertical-align: middle;\n",
       "    }\n",
       "\n",
       "    .dataframe tbody tr th {\n",
       "        vertical-align: top;\n",
       "    }\n",
       "\n",
       "    .dataframe thead th {\n",
       "        text-align: right;\n",
       "    }\n",
       "</style>\n",
       "<table border=\"1\" class=\"dataframe\">\n",
       "  <thead>\n",
       "    <tr style=\"text-align: right;\">\n",
       "      <th></th>\n",
       "      <th>click_id</th>\n",
       "      <th>is_attributed</th>\n",
       "    </tr>\n",
       "  </thead>\n",
       "  <tbody>\n",
       "    <tr>\n",
       "      <th>0</th>\n",
       "      <td>0</td>\n",
       "      <td>0</td>\n",
       "    </tr>\n",
       "    <tr>\n",
       "      <th>1</th>\n",
       "      <td>1</td>\n",
       "      <td>0</td>\n",
       "    </tr>\n",
       "    <tr>\n",
       "      <th>2</th>\n",
       "      <td>2</td>\n",
       "      <td>0</td>\n",
       "    </tr>\n",
       "    <tr>\n",
       "      <th>3</th>\n",
       "      <td>3</td>\n",
       "      <td>0</td>\n",
       "    </tr>\n",
       "    <tr>\n",
       "      <th>4</th>\n",
       "      <td>4</td>\n",
       "      <td>0</td>\n",
       "    </tr>\n",
       "  </tbody>\n",
       "</table>\n",
       "</div>"
      ],
      "text/plain": [
       "   click_id  is_attributed\n",
       "0         0              0\n",
       "1         1              0\n",
       "2         2              0\n",
       "3         3              0\n",
       "4         4              0"
      ]
     },
     "execution_count": 180,
     "metadata": {},
     "output_type": "execute_result"
    }
   ],
   "source": [
    "click_id = [i for i in range(0,len(df_test))]\n",
    "\n",
    "df_submit = pd.DataFrame()\n",
    "df_submit['click_id'] = click_id\n",
    "df_submit['is_attributed'] = predictions\n",
    "df_submit.head()"
   ]
  },
  {
   "cell_type": "code",
   "execution_count": 181,
   "metadata": {},
   "outputs": [],
   "source": [
    "# Salvando \n",
    "df_submit.to_csv('prediction_LGBM_all.csv', index=False)"
   ]
  },
  {
   "cell_type": "code",
   "execution_count": null,
   "metadata": {},
   "outputs": [],
   "source": []
  }
 ],
 "metadata": {
  "kernelspec": {
   "display_name": "Python 3",
   "language": "python",
   "name": "python3"
  },
  "language_info": {
   "codemirror_mode": {
    "name": "ipython",
    "version": 3
   },
   "file_extension": ".py",
   "mimetype": "text/x-python",
   "name": "python",
   "nbconvert_exporter": "python",
   "pygments_lexer": "ipython3",
   "version": "3.5.2"
  }
 },
 "nbformat": 4,
 "nbformat_minor": 2
}
