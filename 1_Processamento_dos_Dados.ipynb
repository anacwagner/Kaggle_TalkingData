{
 "cells": [
  {
   "cell_type": "markdown",
   "metadata": {},
   "source": [
    "# PARTE 1 - Processamento dos Dados - Kaggle - TalkingData\n",
    "\n",
    "## Alunos: Ana Carolina Wagner e José Valentim\n",
    "## Mestrado FGV-EMAp - 2018.1\n",
    "## MMD - Prof. Renato\n",
    "\n",
    "## Fontes:\n",
    "\n",
    "* [Kaggle Notebook - How to Work with BIG Datasets on Kaggle Kernels](https://www.kaggle.com/yuliagm/how-to-work-with-big-datasets-on-16g-ram-dask)\n",
    "* [Kaggle Discussion - How to manage the amount of data](https://www.kaggle.com/c/talkingdata-adtracking-fraud-detection/discussion/51411)\n",
    "* [O`Reilly - Jeroen Janssens - Data Science at the Command Line](https://www.datascienceatthecommandline.com/chapter-5-scrubbing-data.html) \n",
    "* [Working with CSVs on the Command Line](http://bconnelly.net/working-with-csvs-on-the-command-line/)\n",
    "* [Pandas on Dask](http://dask.pydata.org/en/latest/dataframe.html) (`import pandas as pd < import ray.dataframe as pd < import dask.dataframe as dd`)"
   ]
  },
  {
   "cell_type": "markdown",
   "metadata": {},
   "source": [
    "## 1. Carregando bibliotecas "
   ]
  },
  {
   "cell_type": "code",
   "execution_count": 1,
   "metadata": {
    "collapsed": true
   },
   "outputs": [],
   "source": [
    "import pandas as pd\n",
    "import dask.dataframe as dd\n",
    "import numpy as np\n",
    "\n",
    "import os\n",
    "import csv\n",
    "import time\n",
    "import gc # garbage collection \n",
    "\n",
    "path = '../../../../../dados/Dados/Kaggle/' # Servidor - Renato \n",
    "path_ana = os.getcwd()"
   ]
  },
  {
   "cell_type": "markdown",
   "metadata": {},
   "source": [
    "## 2. Importando os dados"
   ]
  },
  {
   "cell_type": "code",
   "execution_count": 2,
   "metadata": {},
   "outputs": [
    {
     "name": "stdout",
     "output_type": "stream",
     "text": [
      "# Tamanho dos dados:\n",
      "sample_submission.csv         195.58 MB\n",
      "test.csv.zip                  169.8 MB\n",
      "train.csv.zip                 1298.59 MB\n",
      "train_sample.csv.zip          1.13 MB\n",
      "sample_submission.csv.zip     42.06 MB\n",
      "train.csv                     7537.65 MB\n",
      "train_sample.csv              4.08 MB\n"
     ]
    }
   ],
   "source": [
    "print('# Tamanho dos dados:')\n",
    "for f in os.listdir(path)[1:8]:\n",
    "    print(f.ljust(30) + str(round(os.path.getsize(path  + f) / 1000000, 2)) + ' MB')"
   ]
  },
  {
   "cell_type": "markdown",
   "metadata": {},
   "source": [
    "Analisando os dados da competição, podemos perceber que se trata de um grande volume de dados. Portanto, torna-se necessário algumas manipulações para que possamos trabalhar com os dados de treinamento (o arquivo `train.csv` possui mais de 180 milhões de linhas!!!)."
   ]
  },
  {
   "cell_type": "code",
   "execution_count": 3,
   "metadata": {},
   "outputs": [],
   "source": [
    "df_train_sample = pd.read_csv(path + 'train_sample.csv')\n",
    "df_test = pd.read_csv(path + 'test.csv')"
   ]
  },
  {
   "cell_type": "code",
   "execution_count": 4,
   "metadata": {},
   "outputs": [
    {
     "data": {
      "text/html": [
       "<div>\n",
       "<style scoped>\n",
       "    .dataframe tbody tr th:only-of-type {\n",
       "        vertical-align: middle;\n",
       "    }\n",
       "\n",
       "    .dataframe tbody tr th {\n",
       "        vertical-align: top;\n",
       "    }\n",
       "\n",
       "    .dataframe thead th {\n",
       "        text-align: right;\n",
       "    }\n",
       "</style>\n",
       "<table border=\"1\" class=\"dataframe\">\n",
       "  <thead>\n",
       "    <tr style=\"text-align: right;\">\n",
       "      <th></th>\n",
       "      <th>ip</th>\n",
       "      <th>app</th>\n",
       "      <th>device</th>\n",
       "      <th>os</th>\n",
       "      <th>channel</th>\n",
       "      <th>click_time</th>\n",
       "      <th>attributed_time</th>\n",
       "      <th>is_attributed</th>\n",
       "    </tr>\n",
       "  </thead>\n",
       "  <tbody>\n",
       "    <tr>\n",
       "      <th>0</th>\n",
       "      <td>87540</td>\n",
       "      <td>12</td>\n",
       "      <td>1</td>\n",
       "      <td>13</td>\n",
       "      <td>497</td>\n",
       "      <td>2017-11-07 09:30:38</td>\n",
       "      <td>NaN</td>\n",
       "      <td>0</td>\n",
       "    </tr>\n",
       "    <tr>\n",
       "      <th>1</th>\n",
       "      <td>105560</td>\n",
       "      <td>25</td>\n",
       "      <td>1</td>\n",
       "      <td>17</td>\n",
       "      <td>259</td>\n",
       "      <td>2017-11-07 13:40:27</td>\n",
       "      <td>NaN</td>\n",
       "      <td>0</td>\n",
       "    </tr>\n",
       "    <tr>\n",
       "      <th>2</th>\n",
       "      <td>101424</td>\n",
       "      <td>12</td>\n",
       "      <td>1</td>\n",
       "      <td>19</td>\n",
       "      <td>212</td>\n",
       "      <td>2017-11-07 18:05:24</td>\n",
       "      <td>NaN</td>\n",
       "      <td>0</td>\n",
       "    </tr>\n",
       "    <tr>\n",
       "      <th>3</th>\n",
       "      <td>94584</td>\n",
       "      <td>13</td>\n",
       "      <td>1</td>\n",
       "      <td>13</td>\n",
       "      <td>477</td>\n",
       "      <td>2017-11-07 04:58:08</td>\n",
       "      <td>NaN</td>\n",
       "      <td>0</td>\n",
       "    </tr>\n",
       "    <tr>\n",
       "      <th>4</th>\n",
       "      <td>68413</td>\n",
       "      <td>12</td>\n",
       "      <td>1</td>\n",
       "      <td>1</td>\n",
       "      <td>178</td>\n",
       "      <td>2017-11-09 09:00:09</td>\n",
       "      <td>NaN</td>\n",
       "      <td>0</td>\n",
       "    </tr>\n",
       "  </tbody>\n",
       "</table>\n",
       "</div>"
      ],
      "text/plain": [
       "       ip  app  device  os  channel           click_time attributed_time  \\\n",
       "0   87540   12       1  13      497  2017-11-07 09:30:38             NaN   \n",
       "1  105560   25       1  17      259  2017-11-07 13:40:27             NaN   \n",
       "2  101424   12       1  19      212  2017-11-07 18:05:24             NaN   \n",
       "3   94584   13       1  13      477  2017-11-07 04:58:08             NaN   \n",
       "4   68413   12       1   1      178  2017-11-09 09:00:09             NaN   \n",
       "\n",
       "   is_attributed  \n",
       "0              0  \n",
       "1              0  \n",
       "2              0  \n",
       "3              0  \n",
       "4              0  "
      ]
     },
     "execution_count": 4,
     "metadata": {},
     "output_type": "execute_result"
    }
   ],
   "source": [
    "df_train_sample.head()"
   ]
  },
  {
   "cell_type": "code",
   "execution_count": 5,
   "metadata": {},
   "outputs": [
    {
     "data": {
      "text/html": [
       "<div>\n",
       "<style scoped>\n",
       "    .dataframe tbody tr th:only-of-type {\n",
       "        vertical-align: middle;\n",
       "    }\n",
       "\n",
       "    .dataframe tbody tr th {\n",
       "        vertical-align: top;\n",
       "    }\n",
       "\n",
       "    .dataframe thead th {\n",
       "        text-align: right;\n",
       "    }\n",
       "</style>\n",
       "<table border=\"1\" class=\"dataframe\">\n",
       "  <thead>\n",
       "    <tr style=\"text-align: right;\">\n",
       "      <th></th>\n",
       "      <th>ip</th>\n",
       "      <th>app</th>\n",
       "      <th>device</th>\n",
       "      <th>os</th>\n",
       "      <th>channel</th>\n",
       "      <th>click_time</th>\n",
       "      <th>attributed_time</th>\n",
       "      <th>is_attributed</th>\n",
       "    </tr>\n",
       "  </thead>\n",
       "  <tbody>\n",
       "    <tr>\n",
       "      <th>284</th>\n",
       "      <td>224120</td>\n",
       "      <td>19</td>\n",
       "      <td>0</td>\n",
       "      <td>29</td>\n",
       "      <td>213</td>\n",
       "      <td>2017-11-08 02:22:13</td>\n",
       "      <td>2017-11-08 02:22:38</td>\n",
       "      <td>1</td>\n",
       "    </tr>\n",
       "    <tr>\n",
       "      <th>481</th>\n",
       "      <td>272894</td>\n",
       "      <td>10</td>\n",
       "      <td>1</td>\n",
       "      <td>7</td>\n",
       "      <td>113</td>\n",
       "      <td>2017-11-08 06:10:05</td>\n",
       "      <td>2017-11-08 06:10:37</td>\n",
       "      <td>1</td>\n",
       "    </tr>\n",
       "    <tr>\n",
       "      <th>1208</th>\n",
       "      <td>79001</td>\n",
       "      <td>19</td>\n",
       "      <td>0</td>\n",
       "      <td>0</td>\n",
       "      <td>213</td>\n",
       "      <td>2017-11-07 09:54:22</td>\n",
       "      <td>2017-11-07 11:59:05</td>\n",
       "      <td>1</td>\n",
       "    </tr>\n",
       "    <tr>\n",
       "      <th>1341</th>\n",
       "      <td>131029</td>\n",
       "      <td>19</td>\n",
       "      <td>0</td>\n",
       "      <td>0</td>\n",
       "      <td>343</td>\n",
       "      <td>2017-11-09 10:58:46</td>\n",
       "      <td>2017-11-09 11:52:01</td>\n",
       "      <td>1</td>\n",
       "    </tr>\n",
       "    <tr>\n",
       "      <th>1412</th>\n",
       "      <td>40352</td>\n",
       "      <td>19</td>\n",
       "      <td>0</td>\n",
       "      <td>0</td>\n",
       "      <td>213</td>\n",
       "      <td>2017-11-07 22:19:03</td>\n",
       "      <td>2017-11-08 01:55:02</td>\n",
       "      <td>1</td>\n",
       "    </tr>\n",
       "  </tbody>\n",
       "</table>\n",
       "</div>"
      ],
      "text/plain": [
       "          ip  app  device  os  channel           click_time  \\\n",
       "284   224120   19       0  29      213  2017-11-08 02:22:13   \n",
       "481   272894   10       1   7      113  2017-11-08 06:10:05   \n",
       "1208   79001   19       0   0      213  2017-11-07 09:54:22   \n",
       "1341  131029   19       0   0      343  2017-11-09 10:58:46   \n",
       "1412   40352   19       0   0      213  2017-11-07 22:19:03   \n",
       "\n",
       "          attributed_time  is_attributed  \n",
       "284   2017-11-08 02:22:38              1  \n",
       "481   2017-11-08 06:10:37              1  \n",
       "1208  2017-11-07 11:59:05              1  \n",
       "1341  2017-11-09 11:52:01              1  \n",
       "1412  2017-11-08 01:55:02              1  "
      ]
     },
     "execution_count": 5,
     "metadata": {},
     "output_type": "execute_result"
    }
   ],
   "source": [
    "df_train_sample[df_train_sample['attributed_time'].notnull()].head()"
   ]
  },
  {
   "cell_type": "code",
   "execution_count": 6,
   "metadata": {},
   "outputs": [
    {
     "name": "stdout",
     "output_type": "stream",
     "text": [
      "<class 'pandas.core.frame.DataFrame'>\n",
      "RangeIndex: 100000 entries, 0 to 99999\n",
      "Data columns (total 8 columns):\n",
      "ip                 100000 non-null int64\n",
      "app                100000 non-null int64\n",
      "device             100000 non-null int64\n",
      "os                 100000 non-null int64\n",
      "channel            100000 non-null int64\n",
      "click_time         100000 non-null object\n",
      "attributed_time    227 non-null object\n",
      "is_attributed      100000 non-null int64\n",
      "dtypes: int64(6), object(2)\n",
      "memory usage: 6.1+ MB\n"
     ]
    }
   ],
   "source": [
    "df_train_sample.info()"
   ]
  },
  {
   "cell_type": "code",
   "execution_count": 7,
   "metadata": {},
   "outputs": [
    {
     "data": {
      "text/html": [
       "<div>\n",
       "<style scoped>\n",
       "    .dataframe tbody tr th:only-of-type {\n",
       "        vertical-align: middle;\n",
       "    }\n",
       "\n",
       "    .dataframe tbody tr th {\n",
       "        vertical-align: top;\n",
       "    }\n",
       "\n",
       "    .dataframe thead th {\n",
       "        text-align: right;\n",
       "    }\n",
       "</style>\n",
       "<table border=\"1\" class=\"dataframe\">\n",
       "  <thead>\n",
       "    <tr style=\"text-align: right;\">\n",
       "      <th></th>\n",
       "      <th>click_id</th>\n",
       "      <th>ip</th>\n",
       "      <th>app</th>\n",
       "      <th>device</th>\n",
       "      <th>os</th>\n",
       "      <th>channel</th>\n",
       "      <th>click_time</th>\n",
       "    </tr>\n",
       "  </thead>\n",
       "  <tbody>\n",
       "    <tr>\n",
       "      <th>0</th>\n",
       "      <td>0</td>\n",
       "      <td>5744</td>\n",
       "      <td>9</td>\n",
       "      <td>1</td>\n",
       "      <td>3</td>\n",
       "      <td>107</td>\n",
       "      <td>2017-11-10 04:00:00</td>\n",
       "    </tr>\n",
       "    <tr>\n",
       "      <th>1</th>\n",
       "      <td>1</td>\n",
       "      <td>119901</td>\n",
       "      <td>9</td>\n",
       "      <td>1</td>\n",
       "      <td>3</td>\n",
       "      <td>466</td>\n",
       "      <td>2017-11-10 04:00:00</td>\n",
       "    </tr>\n",
       "    <tr>\n",
       "      <th>2</th>\n",
       "      <td>2</td>\n",
       "      <td>72287</td>\n",
       "      <td>21</td>\n",
       "      <td>1</td>\n",
       "      <td>19</td>\n",
       "      <td>128</td>\n",
       "      <td>2017-11-10 04:00:00</td>\n",
       "    </tr>\n",
       "    <tr>\n",
       "      <th>3</th>\n",
       "      <td>3</td>\n",
       "      <td>78477</td>\n",
       "      <td>15</td>\n",
       "      <td>1</td>\n",
       "      <td>13</td>\n",
       "      <td>111</td>\n",
       "      <td>2017-11-10 04:00:00</td>\n",
       "    </tr>\n",
       "    <tr>\n",
       "      <th>4</th>\n",
       "      <td>4</td>\n",
       "      <td>123080</td>\n",
       "      <td>12</td>\n",
       "      <td>1</td>\n",
       "      <td>13</td>\n",
       "      <td>328</td>\n",
       "      <td>2017-11-10 04:00:00</td>\n",
       "    </tr>\n",
       "  </tbody>\n",
       "</table>\n",
       "</div>"
      ],
      "text/plain": [
       "   click_id      ip  app  device  os  channel           click_time\n",
       "0         0    5744    9       1   3      107  2017-11-10 04:00:00\n",
       "1         1  119901    9       1   3      466  2017-11-10 04:00:00\n",
       "2         2   72287   21       1  19      128  2017-11-10 04:00:00\n",
       "3         3   78477   15       1  13      111  2017-11-10 04:00:00\n",
       "4         4  123080   12       1  13      328  2017-11-10 04:00:00"
      ]
     },
     "execution_count": 7,
     "metadata": {},
     "output_type": "execute_result"
    }
   ],
   "source": [
    "df_test.head()"
   ]
  },
  {
   "cell_type": "code",
   "execution_count": 8,
   "metadata": {},
   "outputs": [
    {
     "name": "stdout",
     "output_type": "stream",
     "text": [
      "<class 'pandas.core.frame.DataFrame'>\n",
      "RangeIndex: 18790469 entries, 0 to 18790468\n",
      "Data columns (total 7 columns):\n",
      "click_id      int64\n",
      "ip            int64\n",
      "app           int64\n",
      "device        int64\n",
      "os            int64\n",
      "channel       int64\n",
      "click_time    object\n",
      "dtypes: int64(6), object(1)\n",
      "memory usage: 1003.5+ MB\n"
     ]
    }
   ],
   "source": [
    "df_test.info()"
   ]
  },
  {
   "cell_type": "markdown",
   "metadata": {},
   "source": [
    "A princípio, podemos observar que a coluna `attributed_time` agrega pouca informação adicional ao restante dos dados. Trata-se de um timestamp do horário em que o download foi realizado, dessa forma ele é gerado após o clique. Como estamos querendo classificar um determinado clique, essa informação foi julgada ser redundante para prever se o download de fato ocorrerá (ela também não está presente no conjunto teste, pois está diretamente relacionada com a coluna que queremos fazer a predição). Dessa forma iremos descartar essa coluna na análise exploratória dos dados. "
   ]
  },
  {
   "cell_type": "code",
   "execution_count": 9,
   "metadata": {},
   "outputs": [
    {
     "name": "stdout",
     "output_type": "stream",
     "text": [
      "Dados de treinamento:\n",
      "     Mínimo click_time: 2017-11-06 16:00:00\n",
      "     Máximo click_time: 2017-11-09 15:59:51\n",
      "Dados de teste:\n",
      "     Mínimo click_time: 2017-11-10 04:00:00\n",
      "     Máximo click_time: 2017-11-10 15:00:00\n"
     ]
    }
   ],
   "source": [
    "print('Dados de treinamento:')\n",
    "print('     Mínimo click_time: ' + str(min(df_train_sample['click_time'])))\n",
    "print('     Máximo click_time: ' + str(max(df_train_sample['click_time'])))\n",
    "print('Dados de teste:')\n",
    "print('     Mínimo click_time: ' + str(min(df_test['click_time'])))\n",
    "print('     Máximo click_time: ' + str(max(df_test['click_time'])))"
   ]
  },
  {
   "cell_type": "markdown",
   "metadata": {},
   "source": [
    "Como podemos observar, a coluna `click_time` é um [timestamp](https://en.wikipedia.org/wiki/Timestamp) no formato **\"yyyy-mm-dd hh:mm:s\"**. Em ambos datasets, os dados dessa coluna oscilam em um intervalo de `2017-11-06` a `2017-11-10` (4 dias). Ou seja, as informações sobre mês e ano são redundantes (todos registros são de **novembro de 2017**. \n",
    "\n",
    "A ideia é carregar os datasets descartando as informações sobre mês e ano. Para isso, vamos separar esse timestamp em colunas e considerar apenas: `day`, `hour`, `minute` e `second`."
   ]
  },
  {
   "cell_type": "code",
   "execution_count": 10,
   "metadata": {
    "collapsed": true
   },
   "outputs": [],
   "source": [
    "# Importando Apenas As Colunas Selecionadas\n",
    "train_cols = ['ip', 'app', 'device', 'os', 'channel', 'day', 'hour','is_attributed']\n",
    "test_cols  = ['ip', 'app', 'device', 'os', 'channel', 'day', 'hour']"
   ]
  },
  {
   "cell_type": "code",
   "execution_count": 11,
   "metadata": {
    "collapsed": true
   },
   "outputs": [],
   "source": [
    "# Data Types - reduzir o espaço de armazenamento usando inteiros onde possível\n",
    "dtypes = {\n",
    "        'ip'            : 'uint32',\n",
    "        'app'           : 'uint16',\n",
    "        'device'        : 'uint16',\n",
    "        'os'            : 'uint16',\n",
    "        'channel'       : 'uint16',\n",
    "        'is_attributed' : 'uint8',\n",
    "        'day'           : 'uint8',\n",
    "        'hour'          : 'uint8',\n",
    "        'minute'        : 'uint8',\n",
    "        'second'        : 'uint8'\n",
    "        }"
   ]
  },
  {
   "cell_type": "markdown",
   "metadata": {},
   "source": [
    "Em vez de deixar que o Python adivinhe os tipos de dados, em que acabará colocando mais espaço do que necessário, sabendo que os números são inteiros e que não ultrapassam determinados valores, vamos definir os tipos de dados com os requisitos mínimos antes de importá-los. "
   ]
  },
  {
   "cell_type": "markdown",
   "metadata": {},
   "source": [
    "A partir das considerações feitas e pesqusiando no campo de [Discussion](https://www.kaggle.com/c/talkingdata-adtracking-fraud-detection/discussion) do Kaggle, resolvemos tratar algumas dessas modificações propostas na linha de comando e salvar os resultados em um novo `csv`.\n",
    "\n",
    "[**TIP1: Random selection of all the train set**](https://www.kaggle.com/c/talkingdata-adtracking-fraud-detection/discussion/51809#295230) Optamos por trabalhar com uma amostra de 10% dos dados do conjunto de treinamento. Para isso, utilizamos o `Pandas On Dask`."
   ]
  },
  {
   "cell_type": "code",
   "execution_count": 12,
   "metadata": {
    "collapsed": true
   },
   "outputs": [],
   "source": [
    "# Inicia o processamento do conjunto de treinamento usando o Pandas On Dask - mais rápido que o Pandas tradicional\n",
    "# start_time = time.time()\n",
    "# print('[{}] Start to load data'.format(time.time() - start_time))\n",
    "# freq = 0.1 # Porcentagem da amostra do conjunto de treinamento\n",
    "# df_train = df_train.random_split([freq , 1-freq])[0]\n",
    "# df_train = df_train.compute()\n",
    "# print('[{}] Finished to load data'.format(time.time() - start_time))"
   ]
  },
  {
   "cell_type": "code",
   "execution_count": 13,
   "metadata": {
    "collapsed": true
   },
   "outputs": [],
   "source": [
    "# Salva a amostra gerada do conjunto de treinamento \n",
    "#df_train.to_csv(path_ana + '/datasets/train_sample_10.csv')"
   ]
  },
  {
   "cell_type": "markdown",
   "metadata": {},
   "source": [
    "[**TIP2: Shrink the data from command line**](https://www.kaggle.com/c/talkingdata-adtracking-fraud-detection/discussion/51347) Com a amostra gerada, vamos remover as informações de ano e mês da coluna `click_time` na linha de comando. Fazemos o mesmo para o conjunto teste original.\n",
    "\n",
    "* Para o conjunto de treinamento: `sed s/2017-11-//g < train_sample_10.csv > train_sample_10_reduced.csv`\n",
    "* Para o conjunto teste: `sed s/2017-11-//g < test.csv > test_reduced.csv`\n",
    "\n",
    "Em seguida,\n",
    "\n",
    "* Para o conjunto de treinamento: sed `-E -e 's/[[:space:]]/,/g' -e 's/:/,/g' -e 's/click_time/day,hour,minute,second/g' < train_sample_10_reduced.csv > train_sample_10_reduced.csv`\n",
    "* Para o conjunto teste: `sed -E -e 's/[[:space:]]/,/g' -e 's/:/,/g' -e 's/click_time/day,hour,minute,second/g' < test_reduced.csv > test_reduced.csv`"
   ]
  },
  {
   "cell_type": "code",
   "execution_count": 16,
   "metadata": {},
   "outputs": [],
   "source": [
    "df_train_reduced = pd.read_csv(path_ana + \"/datasets/train_sample_10_reduced.csv\", dtype=dtypes, usecols = train_cols)\n",
    "df_test_reduced = pd.read_csv(path_ana + \"/datasets/test_reduced.csv\", dtype=dtypes, usecols = test_cols)"
   ]
  },
  {
   "cell_type": "code",
   "execution_count": 17,
   "metadata": {},
   "outputs": [
    {
     "data": {
      "text/html": [
       "<div>\n",
       "<style scoped>\n",
       "    .dataframe tbody tr th:only-of-type {\n",
       "        vertical-align: middle;\n",
       "    }\n",
       "\n",
       "    .dataframe tbody tr th {\n",
       "        vertical-align: top;\n",
       "    }\n",
       "\n",
       "    .dataframe thead th {\n",
       "        text-align: right;\n",
       "    }\n",
       "</style>\n",
       "<table border=\"1\" class=\"dataframe\">\n",
       "  <thead>\n",
       "    <tr style=\"text-align: right;\">\n",
       "      <th></th>\n",
       "      <th>ip</th>\n",
       "      <th>app</th>\n",
       "      <th>device</th>\n",
       "      <th>os</th>\n",
       "      <th>channel</th>\n",
       "      <th>day</th>\n",
       "      <th>hour</th>\n",
       "      <th>is_attributed</th>\n",
       "    </tr>\n",
       "  </thead>\n",
       "  <tbody>\n",
       "    <tr>\n",
       "      <th>0</th>\n",
       "      <td>35810</td>\n",
       "      <td>3</td>\n",
       "      <td>1</td>\n",
       "      <td>13</td>\n",
       "      <td>379</td>\n",
       "      <td>6</td>\n",
       "      <td>14</td>\n",
       "      <td>0</td>\n",
       "    </tr>\n",
       "    <tr>\n",
       "      <th>1</th>\n",
       "      <td>165970</td>\n",
       "      <td>3</td>\n",
       "      <td>1</td>\n",
       "      <td>13</td>\n",
       "      <td>379</td>\n",
       "      <td>6</td>\n",
       "      <td>14</td>\n",
       "      <td>0</td>\n",
       "    </tr>\n",
       "    <tr>\n",
       "      <th>2</th>\n",
       "      <td>111385</td>\n",
       "      <td>3</td>\n",
       "      <td>1</td>\n",
       "      <td>18</td>\n",
       "      <td>379</td>\n",
       "      <td>6</td>\n",
       "      <td>14</td>\n",
       "      <td>0</td>\n",
       "    </tr>\n",
       "    <tr>\n",
       "      <th>3</th>\n",
       "      <td>74715</td>\n",
       "      <td>3</td>\n",
       "      <td>1</td>\n",
       "      <td>19</td>\n",
       "      <td>379</td>\n",
       "      <td>6</td>\n",
       "      <td>14</td>\n",
       "      <td>0</td>\n",
       "    </tr>\n",
       "    <tr>\n",
       "      <th>4</th>\n",
       "      <td>148454</td>\n",
       "      <td>3</td>\n",
       "      <td>1</td>\n",
       "      <td>19</td>\n",
       "      <td>379</td>\n",
       "      <td>6</td>\n",
       "      <td>14</td>\n",
       "      <td>0</td>\n",
       "    </tr>\n",
       "  </tbody>\n",
       "</table>\n",
       "</div>"
      ],
      "text/plain": [
       "       ip  app  device  os  channel  day  hour  is_attributed\n",
       "0   35810    3       1  13      379    6    14              0\n",
       "1  165970    3       1  13      379    6    14              0\n",
       "2  111385    3       1  18      379    6    14              0\n",
       "3   74715    3       1  19      379    6    14              0\n",
       "4  148454    3       1  19      379    6    14              0"
      ]
     },
     "execution_count": 17,
     "metadata": {},
     "output_type": "execute_result"
    }
   ],
   "source": [
    "df_train_reduced.head()"
   ]
  },
  {
   "cell_type": "code",
   "execution_count": 18,
   "metadata": {},
   "outputs": [
    {
     "data": {
      "text/html": [
       "<div>\n",
       "<style scoped>\n",
       "    .dataframe tbody tr th:only-of-type {\n",
       "        vertical-align: middle;\n",
       "    }\n",
       "\n",
       "    .dataframe tbody tr th {\n",
       "        vertical-align: top;\n",
       "    }\n",
       "\n",
       "    .dataframe thead th {\n",
       "        text-align: right;\n",
       "    }\n",
       "</style>\n",
       "<table border=\"1\" class=\"dataframe\">\n",
       "  <thead>\n",
       "    <tr style=\"text-align: right;\">\n",
       "      <th></th>\n",
       "      <th>ip</th>\n",
       "      <th>app</th>\n",
       "      <th>device</th>\n",
       "      <th>os</th>\n",
       "      <th>channel</th>\n",
       "      <th>day</th>\n",
       "      <th>hour</th>\n",
       "    </tr>\n",
       "  </thead>\n",
       "  <tbody>\n",
       "    <tr>\n",
       "      <th>0</th>\n",
       "      <td>5744</td>\n",
       "      <td>9</td>\n",
       "      <td>1</td>\n",
       "      <td>3</td>\n",
       "      <td>107</td>\n",
       "      <td>10</td>\n",
       "      <td>4</td>\n",
       "    </tr>\n",
       "    <tr>\n",
       "      <th>1</th>\n",
       "      <td>119901</td>\n",
       "      <td>9</td>\n",
       "      <td>1</td>\n",
       "      <td>3</td>\n",
       "      <td>466</td>\n",
       "      <td>10</td>\n",
       "      <td>4</td>\n",
       "    </tr>\n",
       "    <tr>\n",
       "      <th>2</th>\n",
       "      <td>72287</td>\n",
       "      <td>21</td>\n",
       "      <td>1</td>\n",
       "      <td>19</td>\n",
       "      <td>128</td>\n",
       "      <td>10</td>\n",
       "      <td>4</td>\n",
       "    </tr>\n",
       "    <tr>\n",
       "      <th>3</th>\n",
       "      <td>78477</td>\n",
       "      <td>15</td>\n",
       "      <td>1</td>\n",
       "      <td>13</td>\n",
       "      <td>111</td>\n",
       "      <td>10</td>\n",
       "      <td>4</td>\n",
       "    </tr>\n",
       "    <tr>\n",
       "      <th>4</th>\n",
       "      <td>123080</td>\n",
       "      <td>12</td>\n",
       "      <td>1</td>\n",
       "      <td>13</td>\n",
       "      <td>328</td>\n",
       "      <td>10</td>\n",
       "      <td>4</td>\n",
       "    </tr>\n",
       "  </tbody>\n",
       "</table>\n",
       "</div>"
      ],
      "text/plain": [
       "       ip  app  device  os  channel  day  hour\n",
       "0    5744    9       1   3      107   10     4\n",
       "1  119901    9       1   3      466   10     4\n",
       "2   72287   21       1  19      128   10     4\n",
       "3   78477   15       1  13      111   10     4\n",
       "4  123080   12       1  13      328   10     4"
      ]
     },
     "execution_count": 18,
     "metadata": {},
     "output_type": "execute_result"
    }
   ],
   "source": [
    "df_test_reduced.head()"
   ]
  },
  {
   "cell_type": "code",
   "execution_count": null,
   "metadata": {
    "collapsed": true
   },
   "outputs": [],
   "source": []
  }
 ],
 "metadata": {
  "kernelspec": {
   "display_name": "Python 3",
   "language": "python",
   "name": "python3"
  },
  "language_info": {
   "codemirror_mode": {
    "name": "ipython",
    "version": 3
   },
   "file_extension": ".py",
   "mimetype": "text/x-python",
   "name": "python",
   "nbconvert_exporter": "python",
   "pygments_lexer": "ipython3",
   "version": "3.6.2"
  }
 },
 "nbformat": 4,
 "nbformat_minor": 2
}
